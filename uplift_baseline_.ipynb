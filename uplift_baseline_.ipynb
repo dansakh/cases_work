{
 "cells": [
  {
   "cell_type": "code",
   "execution_count": 1,
   "metadata": {
    "ExecuteTime": {
     "end_time": "2021-01-20T10:27:21.505302Z",
     "start_time": "2021-01-20T10:27:16.220221Z"
    }
   },
   "outputs": [
    {
     "name": "stderr",
     "output_type": "stream",
     "text": [
      "C:\\Users\\pavel.pogozhy\\AppData\\Roaming\\Python\\Python36\\site-packages\\sklearn\\externals\\joblib\\__init__.py:15: DeprecationWarning: sklearn.externals.joblib is deprecated in 0.21 and will be removed in 0.23. Please import this functionality directly from joblib, which can be installed with: pip install joblib. If this warning is raised when loading pickled models, you may need to re-serialize those models with scikit-learn 0.21+.\n",
      "  warnings.warn(msg, category=DeprecationWarning)\n"
     ]
    }
   ],
   "source": [
    "import pandas as pd\n",
    "import numpy as np\n",
    "import seaborn as sns\n",
    "import scipy.stats as stats\n",
    "import gc\n",
    "from glob import glob\n",
    "import datetime\n",
    "import random\n",
    "\n",
    "from catboost import CatBoostClassifier\n",
    "from sklearn.metrics import classification_report, confusion_matrix, roc_curve, auc\n",
    "from sklearn.metrics import precision_recall_curve, average_precision_score, make_scorer\n",
    "from sklearn.metrics import precision_score, accuracy_score, recall_score, f1_score\n",
    "from sklearn.model_selection import StratifiedKFold, GridSearchCV, train_test_split\n",
    "from sklearn.pipeline import Pipeline\n",
    "from matplotlib import pyplot as plt\n",
    "\n",
    "from sklearn.preprocessing import LabelEncoder\n",
    "\n",
    "\n",
    "from catboost import CatBoostClassifier, Pool\n",
    "from catboost.utils import get_fpr_curve, get_fnr_curve, get_roc_curve\n",
    "\n",
    "\n",
    "# Skopt functions\n",
    "from skopt import BayesSearchCV\n",
    "from skopt.callbacks import DeadlineStopper, VerboseCallback, DeltaXStopper\n",
    "from skopt.space import Real, Categorical, Integer\n",
    "\n",
    "import warnings\n",
    "warnings.filterwarnings(\"ignore\")\n",
    "\n",
    "pd.set_option('display.max_columns', None)\n",
    "\n",
    "TRAIN = 'outflow_train_11w'\n",
    "\n",
    "%matplotlib inline"
   ]
  },
  {
   "cell_type": "markdown",
   "metadata": {},
   "source": [
    "## sample"
   ]
  },
  {
   "cell_type": "markdown",
   "metadata": {},
   "source": [
    "### CAMPAIGN"
   ]
  },
  {
   "cell_type": "code",
   "execution_count": 348,
   "metadata": {
    "ExecuteTime": {
     "end_time": "2021-01-20T13:41:54.900609Z",
     "start_time": "2021-01-20T13:41:10.675889Z"
    }
   },
   "outputs": [
    {
     "data": {
      "text/plain": [
       "(2720925, 13)"
      ]
     },
     "execution_count": 348,
     "metadata": {},
     "output_type": "execute_result"
    }
   ],
   "source": [
    "df_camp = result_to_df(\"\"\"select * from (select t1.*, t2.rto, t2.fm, t2.cnt_trn from (\n",
    "--select *  from (\n",
    "select toInt64(crd_no) as ACCOUNT_ID, \n",
    "\t\t\t\t\t\t\t\tc_start_date as C_START_DATE, \n",
    "\t\t\t\t\t\t\t\tc_end_date as C_END_DATE,  \n",
    "\t\t\t\t\t\t\t\tcg  \n",
    "\t\t\t\t\t\t\t\tfrom communications\n",
    "\t\t\t\t\t\t\t\twhere action_name like 'ottok%'\n",
    "\t\t\t\t\t\t\t\tand c_start_date > toDate('2020-09-01')\n",
    "\t\t\t\t\t\t\t) t1\n",
    "--\t\t\t\tleft join (select LOYALTY_CARD_ID as CRD_NO, ACCOUNT_ID from DWHD.ACCOUNTS) t2\n",
    "--\t\t\t\tUSING(ACCOUNT_ID) \n",
    "--               )  t1\n",
    "left join (\n",
    "\n",
    "select ACCOUNT_ID, C_START_DATE, C_END_DATE, cg, \n",
    "\tround(sum(zsale_vat)) as rto, \n",
    "\tround(sum(zsale_vat - zcst)) as fm, \n",
    "\tsum(trn) as cnt_trn\n",
    "\tfrom (\n",
    "\t\tselect * from (\n",
    "\t\t\t\t\t\t\t\tselect toInt64(crd_no) as ACCOUNT_ID, \n",
    "\t\t\t\t\t\t\t\tc_start_date as C_START_DATE, \n",
    "\t\t\t\t\t\t\t\tc_end_date as C_END_DATE,  \n",
    "\t\t\t\t\t\t\t\tcg  \n",
    "\t\t\t\t\t\t\t\tfrom communications\n",
    "\t\t\t\t\t\t\t\twhere action_name like 'ottok%'\n",
    "\t\t\t\t\t\t\t\tand c_start_date > toDate('2020-09-01')\n",
    "\t\t\t\t\t\t\t) t1\n",
    "\t\t\t\tleft join (select LOYALTY_CARD_ID as CRD_NO, ACCOUNT_ID from DWHD.ACCOUNTS) t2\n",
    "\t\t\t\tUSING(ACCOUNT_ID)\n",
    "\t\t\t\t) t1\n",
    "left join (select zcustid as CRD_NO, zsale_vat, zcst, day_partitioned, 1 as trn from checks_headers_karusel chk \n",
    "\t\t\twhere day_partitioned >toDate('2020-09-01')\n",
    "\t\t\t) t2\n",
    "USING(CRD_NO)\n",
    "group by ACCOUNT_ID, C_START_DATE, C_END_DATE, cg\n",
    "having (day_partitioned >= C_START_DATE and day_partitioned <= C_END_DATE) ) t2\n",
    "USING(C_START_DATE, ACCOUNT_ID)) t1 \n",
    "left join (select C_START_DATE, ACCOUNT_ID, \n",
    "\tsumIf(ISS_POINTS, isFinite(ISS_POINTS)) as ISS_POINTS,\n",
    "\tsumIf(RED_POINTS, isFinite(RED_POINTS)) as RED_POINTS,\t\n",
    "\tsumIf(TRANSACTION_DISCOUNT_AMT, isFinite(TRANSACTION_DISCOUNT_AMT)) as DISCOUNT_CAMP,\n",
    "\tsumIf(TRN_SECONDARY_POINTS_ISS, isFinite(TRN_SECONDARY_POINTS_ISS)) as SECONDARY_POINTS_ISS,\n",
    "\tsumIf(TRN_SECONDARY_POINTS_RED, isFinite(TRN_SECONDARY_POINTS_RED)) as SECONDARY_POINTS_RED\n",
    "from (select TRANSACTION_DT, ACCOUNT_ID, ISS_POINTS, RED_POINTS, \n",
    "\tTRANSACTION_DISCOUNT_AMT, TRN_SECONDARY_POINTS_ISS, TRN_SECONDARY_POINTS_RED \n",
    "\tfrom DWHD.TRANSACTIONS t\n",
    "\twhere TRANSACTION_DT > toDate('2020-09-01')) t1\n",
    "\tright join (select toInt64(crd_no) as ACCOUNT_ID, \n",
    "\t\t\t\t\t\t\t\t\tc_start_date as C_START_DATE, \n",
    "\t\t\t\t\t\t\t\t\tc_end_date as C_END_DATE  \n",
    "\t\t\t\t\t\t\t\t\tfrom communications\n",
    "\t\t\t\t\t\t\t\t\twhere action_name like 'ottok%'\n",
    "\t\t\t\t\t\t\t\t\tand c_start_date > toDate('2020-09-01')) t2\n",
    "\tUSING(ACCOUNT_ID)\n",
    "\twhere TRANSACTION_DT >= C_START_DATE and TRANSACTION_DT <= C_END_DATE\n",
    "\tgroup by C_START_DATE, ACCOUNT_ID) t2\n",
    "USING(C_START_DATE, ACCOUNT_ID)\n",
    "\n",
    "\"\"\")\n",
    "df_camp = df_camp.drop_duplicates()\n",
    "df_camp = df_camp.drop_duplicates(['ACCOUNT_ID', 'C_START_DATE'])\n",
    "df_camp['C_START_DATE'] = pd.to_datetime(df_camp['C_START_DATE'], format='%Y-%m-%d')\n",
    "df_camp['ACCOUNT_ID'] = df_camp['ACCOUNT_ID'].astype(str)\n",
    "df_camp['vis'] = 0\n",
    "df_camp.loc[df_camp['cnt_trn']>0, 'vis'] = 1\n",
    "df_camp.shape"
   ]
  },
  {
   "cell_type": "code",
   "execution_count": 349,
   "metadata": {
    "ExecuteTime": {
     "end_time": "2021-01-20T13:41:58.557880Z",
     "start_time": "2021-01-20T13:41:54.911638Z"
    }
   },
   "outputs": [
    {
     "data": {
      "text/html": [
       "<div>\n",
       "<style scoped>\n",
       "    .dataframe tbody tr th:only-of-type {\n",
       "        vertical-align: middle;\n",
       "    }\n",
       "\n",
       "    .dataframe tbody tr th {\n",
       "        vertical-align: top;\n",
       "    }\n",
       "\n",
       "    .dataframe thead th {\n",
       "        text-align: right;\n",
       "    }\n",
       "</style>\n",
       "<table border=\"1\" class=\"dataframe\">\n",
       "  <thead>\n",
       "    <tr style=\"text-align: right;\">\n",
       "      <th></th>\n",
       "      <th>ACCOUNT_ID</th>\n",
       "      <th>C_START_DATE</th>\n",
       "      <th>C_START_DATE_last</th>\n",
       "      <th>vis_last</th>\n",
       "      <th>RED_POINTS_last</th>\n",
       "    </tr>\n",
       "  </thead>\n",
       "  <tbody>\n",
       "    <tr>\n",
       "      <th>0</th>\n",
       "      <td>21211051</td>\n",
       "      <td>2020-09-04</td>\n",
       "      <td>2020-09-04</td>\n",
       "      <td>0</td>\n",
       "      <td>0.0</td>\n",
       "    </tr>\n",
       "    <tr>\n",
       "      <th>1</th>\n",
       "      <td>23552760</td>\n",
       "      <td>2020-09-04</td>\n",
       "      <td>2020-09-04</td>\n",
       "      <td>0</td>\n",
       "      <td>0.0</td>\n",
       "    </tr>\n",
       "    <tr>\n",
       "      <th>2</th>\n",
       "      <td>82753845</td>\n",
       "      <td>2020-09-04</td>\n",
       "      <td>2020-09-04</td>\n",
       "      <td>0</td>\n",
       "      <td>0.0</td>\n",
       "    </tr>\n",
       "    <tr>\n",
       "      <th>3</th>\n",
       "      <td>82753845</td>\n",
       "      <td>2020-09-04</td>\n",
       "      <td>2020-10-02</td>\n",
       "      <td>0</td>\n",
       "      <td>0.0</td>\n",
       "    </tr>\n",
       "    <tr>\n",
       "      <th>4</th>\n",
       "      <td>67126431</td>\n",
       "      <td>2020-09-04</td>\n",
       "      <td>2020-09-04</td>\n",
       "      <td>0</td>\n",
       "      <td>0.0</td>\n",
       "    </tr>\n",
       "  </tbody>\n",
       "</table>\n",
       "</div>"
      ],
      "text/plain": [
       "  ACCOUNT_ID C_START_DATE C_START_DATE_last  vis_last  RED_POINTS_last\n",
       "0   21211051   2020-09-04        2020-09-04         0              0.0\n",
       "1   23552760   2020-09-04        2020-09-04         0              0.0\n",
       "2   82753845   2020-09-04        2020-09-04         0              0.0\n",
       "3   82753845   2020-09-04        2020-10-02         0              0.0\n",
       "4   67126431   2020-09-04        2020-09-04         0              0.0"
      ]
     },
     "execution_count": 349,
     "metadata": {},
     "output_type": "execute_result"
    }
   ],
   "source": [
    "df_last_camp = df_camp[['ACCOUNT_ID', 'C_START_DATE', 'vis', 'RED_POINTS']].copy()\n",
    "df_last_camp.columns = ['ACCOUNT_ID', 'C_START_DATE_last', 'vis_last', 'RED_POINTS_last']\n",
    "df_last_camp = df_camp[['ACCOUNT_ID', 'C_START_DATE']].merge(df_last_camp, how='left', on='ACCOUNT_ID')\n",
    "df_last_camp.head()"
   ]
  },
  {
   "cell_type": "code",
   "execution_count": 350,
   "metadata": {
    "ExecuteTime": {
     "end_time": "2021-01-20T13:42:47.324943Z",
     "start_time": "2021-01-20T13:41:58.591970Z"
    }
   },
   "outputs": [],
   "source": [
    "df_last_camp = df_last_camp.loc[df_last_camp['C_START_DATE_last']<df_last_camp['C_START_DATE']\n",
    "                ].groupby(['ACCOUNT_ID', 'C_START_DATE']).agg({'C_START_DATE_last':max, 'vis_last':sum, \n",
    "                                                               'RED_POINTS_last':[sum, max, np.count_nonzero]\n",
    "                                                              }).reset_index()"
   ]
  },
  {
   "cell_type": "code",
   "execution_count": 351,
   "metadata": {
    "ExecuteTime": {
     "end_time": "2021-01-20T13:42:47.423202Z",
     "start_time": "2021-01-20T13:42:47.326948Z"
    },
    "scrolled": false
   },
   "outputs": [
    {
     "data": {
      "text/html": [
       "<div>\n",
       "<style scoped>\n",
       "    .dataframe tbody tr th:only-of-type {\n",
       "        vertical-align: middle;\n",
       "    }\n",
       "\n",
       "    .dataframe tbody tr th {\n",
       "        vertical-align: top;\n",
       "    }\n",
       "\n",
       "    .dataframe thead th {\n",
       "        text-align: right;\n",
       "    }\n",
       "</style>\n",
       "<table border=\"1\" class=\"dataframe\">\n",
       "  <thead>\n",
       "    <tr style=\"text-align: right;\">\n",
       "      <th></th>\n",
       "      <th>ACCOUNT_ID</th>\n",
       "      <th>C_START_DATE</th>\n",
       "      <th>C_START_DATE_last</th>\n",
       "      <th>vis_sum</th>\n",
       "      <th>RED_POINTS_sum</th>\n",
       "      <th>RED_POINTS_max</th>\n",
       "      <th>RED_POINTS_cnt</th>\n",
       "      <th>last_camp</th>\n",
       "    </tr>\n",
       "  </thead>\n",
       "  <tbody>\n",
       "    <tr>\n",
       "      <th>0</th>\n",
       "      <td>10927906</td>\n",
       "      <td>2020-09-18</td>\n",
       "      <td>2020-09-04</td>\n",
       "      <td>0</td>\n",
       "      <td>0.0</td>\n",
       "      <td>0.0</td>\n",
       "      <td>0.0</td>\n",
       "      <td>14</td>\n",
       "    </tr>\n",
       "    <tr>\n",
       "      <th>1</th>\n",
       "      <td>10927906</td>\n",
       "      <td>2020-10-02</td>\n",
       "      <td>2020-09-18</td>\n",
       "      <td>0</td>\n",
       "      <td>0.0</td>\n",
       "      <td>0.0</td>\n",
       "      <td>0.0</td>\n",
       "      <td>14</td>\n",
       "    </tr>\n",
       "    <tr>\n",
       "      <th>2</th>\n",
       "      <td>10927906</td>\n",
       "      <td>2020-10-30</td>\n",
       "      <td>2020-10-02</td>\n",
       "      <td>0</td>\n",
       "      <td>0.0</td>\n",
       "      <td>0.0</td>\n",
       "      <td>0.0</td>\n",
       "      <td>28</td>\n",
       "    </tr>\n",
       "    <tr>\n",
       "      <th>3</th>\n",
       "      <td>12305952</td>\n",
       "      <td>2020-09-18</td>\n",
       "      <td>2020-09-04</td>\n",
       "      <td>0</td>\n",
       "      <td>0.0</td>\n",
       "      <td>0.0</td>\n",
       "      <td>0.0</td>\n",
       "      <td>14</td>\n",
       "    </tr>\n",
       "    <tr>\n",
       "      <th>4</th>\n",
       "      <td>12305983</td>\n",
       "      <td>2020-09-25</td>\n",
       "      <td>2020-09-11</td>\n",
       "      <td>0</td>\n",
       "      <td>0.0</td>\n",
       "      <td>0.0</td>\n",
       "      <td>0.0</td>\n",
       "      <td>14</td>\n",
       "    </tr>\n",
       "  </tbody>\n",
       "</table>\n",
       "</div>"
      ],
      "text/plain": [
       "  ACCOUNT_ID C_START_DATE C_START_DATE_last  vis_sum  RED_POINTS_sum  \\\n",
       "0   10927906   2020-09-18        2020-09-04        0             0.0   \n",
       "1   10927906   2020-10-02        2020-09-18        0             0.0   \n",
       "2   10927906   2020-10-30        2020-10-02        0             0.0   \n",
       "3   12305952   2020-09-18        2020-09-04        0             0.0   \n",
       "4   12305983   2020-09-25        2020-09-11        0             0.0   \n",
       "\n",
       "   RED_POINTS_max  RED_POINTS_cnt  last_camp  \n",
       "0             0.0             0.0         14  \n",
       "1             0.0             0.0         14  \n",
       "2             0.0             0.0         28  \n",
       "3             0.0             0.0         14  \n",
       "4             0.0             0.0         14  "
      ]
     },
     "execution_count": 351,
     "metadata": {},
     "output_type": "execute_result"
    }
   ],
   "source": [
    "df_last_camp.columns = ['ACCOUNT_ID', 'C_START_DATE', 'C_START_DATE_last', 'vis_sum',\n",
    "                        'RED_POINTS_sum', 'RED_POINTS_max', 'RED_POINTS_cnt']\n",
    "df_last_camp['last_camp'] = (df_last_camp['C_START_DATE']-df_last_camp['C_START_DATE_last']).dt.days\n",
    "df_last_camp.head()"
   ]
  },
  {
   "cell_type": "code",
   "execution_count": 352,
   "metadata": {
    "ExecuteTime": {
     "end_time": "2021-01-20T13:42:47.535501Z",
     "start_time": "2021-01-20T13:42:47.435235Z"
    },
    "scrolled": true
   },
   "outputs": [
    {
     "data": {
      "text/html": [
       "<div>\n",
       "<style scoped>\n",
       "    .dataframe tbody tr th:only-of-type {\n",
       "        vertical-align: middle;\n",
       "    }\n",
       "\n",
       "    .dataframe tbody tr th {\n",
       "        vertical-align: top;\n",
       "    }\n",
       "\n",
       "    .dataframe thead th {\n",
       "        text-align: right;\n",
       "    }\n",
       "</style>\n",
       "<table border=\"1\" class=\"dataframe\">\n",
       "  <thead>\n",
       "    <tr style=\"text-align: right;\">\n",
       "      <th></th>\n",
       "      <th>ACCOUNT_ID</th>\n",
       "      <th>C_START_DATE</th>\n",
       "      <th>C_START_DATE_last</th>\n",
       "      <th>vis_sum</th>\n",
       "      <th>RED_POINTS_sum</th>\n",
       "      <th>RED_POINTS_max</th>\n",
       "      <th>RED_POINTS_cnt</th>\n",
       "      <th>last_camp</th>\n",
       "    </tr>\n",
       "  </thead>\n",
       "  <tbody>\n",
       "    <tr>\n",
       "      <th>24255</th>\n",
       "      <td>12510223</td>\n",
       "      <td>2020-12-25</td>\n",
       "      <td>2020-10-09</td>\n",
       "      <td>0</td>\n",
       "      <td>-55.0</td>\n",
       "      <td>0.0</td>\n",
       "      <td>1.0</td>\n",
       "      <td>77</td>\n",
       "    </tr>\n",
       "    <tr>\n",
       "      <th>143812</th>\n",
       "      <td>14570190</td>\n",
       "      <td>2020-11-06</td>\n",
       "      <td>2020-10-02</td>\n",
       "      <td>0</td>\n",
       "      <td>-10.0</td>\n",
       "      <td>-10.0</td>\n",
       "      <td>1.0</td>\n",
       "      <td>35</td>\n",
       "    </tr>\n",
       "    <tr>\n",
       "      <th>158121</th>\n",
       "      <td>14755387</td>\n",
       "      <td>2020-11-27</td>\n",
       "      <td>2020-10-09</td>\n",
       "      <td>0</td>\n",
       "      <td>-16.0</td>\n",
       "      <td>0.0</td>\n",
       "      <td>1.0</td>\n",
       "      <td>49</td>\n",
       "    </tr>\n",
       "    <tr>\n",
       "      <th>158122</th>\n",
       "      <td>14755387</td>\n",
       "      <td>2020-12-11</td>\n",
       "      <td>2020-11-27</td>\n",
       "      <td>0</td>\n",
       "      <td>-16.0</td>\n",
       "      <td>0.0</td>\n",
       "      <td>1.0</td>\n",
       "      <td>14</td>\n",
       "    </tr>\n",
       "    <tr>\n",
       "      <th>238329</th>\n",
       "      <td>20942354</td>\n",
       "      <td>2020-12-11</td>\n",
       "      <td>2020-10-09</td>\n",
       "      <td>0</td>\n",
       "      <td>-6.0</td>\n",
       "      <td>0.0</td>\n",
       "      <td>1.0</td>\n",
       "      <td>63</td>\n",
       "    </tr>\n",
       "  </tbody>\n",
       "</table>\n",
       "</div>"
      ],
      "text/plain": [
       "       ACCOUNT_ID C_START_DATE C_START_DATE_last  vis_sum  RED_POINTS_sum  \\\n",
       "24255    12510223   2020-12-25        2020-10-09        0           -55.0   \n",
       "143812   14570190   2020-11-06        2020-10-02        0           -10.0   \n",
       "158121   14755387   2020-11-27        2020-10-09        0           -16.0   \n",
       "158122   14755387   2020-12-11        2020-11-27        0           -16.0   \n",
       "238329   20942354   2020-12-11        2020-10-09        0            -6.0   \n",
       "\n",
       "        RED_POINTS_max  RED_POINTS_cnt  last_camp  \n",
       "24255              0.0             1.0         77  \n",
       "143812           -10.0             1.0         35  \n",
       "158121             0.0             1.0         49  \n",
       "158122             0.0             1.0         14  \n",
       "238329             0.0             1.0         63  "
      ]
     },
     "execution_count": 352,
     "metadata": {},
     "output_type": "execute_result"
    }
   ],
   "source": [
    "df_last_camp.loc[(df_last_camp.RED_POINTS_sum<0) & (df_last_camp.vis_sum==0)].head()"
   ]
  },
  {
   "cell_type": "code",
   "execution_count": 353,
   "metadata": {
    "ExecuteTime": {
     "end_time": "2021-01-20T13:43:17.306990Z",
     "start_time": "2021-01-20T13:43:17.281924Z"
    }
   },
   "outputs": [
    {
     "data": {
      "text/plain": [
       "(59, 8)"
      ]
     },
     "execution_count": 353,
     "metadata": {},
     "output_type": "execute_result"
    }
   ],
   "source": [
    "df_last_camp.loc[(df_last_camp.RED_POINTS_sum<0) & (df_last_camp.vis_sum==0)].shape"
   ]
  },
  {
   "cell_type": "code",
   "execution_count": 354,
   "metadata": {
    "ExecuteTime": {
     "end_time": "2021-01-20T13:43:43.325995Z",
     "start_time": "2021-01-20T13:43:43.276865Z"
    }
   },
   "outputs": [],
   "source": [
    "df_last_camp['C_START_DATE'] = pd.to_datetime(df_last_camp['C_START_DATE'], format='%Y-%m-%d')"
   ]
  },
  {
   "cell_type": "code",
   "execution_count": 355,
   "metadata": {
    "ExecuteTime": {
     "end_time": "2021-01-20T13:43:48.105134Z",
     "start_time": "2021-01-20T13:43:43.853411Z"
    }
   },
   "outputs": [],
   "source": [
    "df_camp = df_camp.merge(df_last_camp.drop('C_START_DATE_last', axis=1), how='left', on=['ACCOUNT_ID', 'C_START_DATE']).fillna(0)"
   ]
  },
  {
   "cell_type": "code",
   "execution_count": 357,
   "metadata": {
    "ExecuteTime": {
     "end_time": "2021-01-20T13:43:49.451866Z",
     "start_time": "2021-01-20T13:43:49.118181Z"
    },
    "scrolled": true
   },
   "outputs": [
    {
     "data": {
      "text/plain": [
       "C_START_DATE  cg\n",
       "2020-09-04    0     161310\n",
       "              1      40370\n",
       "2020-09-11    0     159774\n",
       "              1      39986\n",
       "2020-09-18    0     154624\n",
       "              1      38694\n",
       "2020-09-25    0     129918\n",
       "              1      32591\n",
       "2020-10-02    0     127578\n",
       "              1      31973\n",
       "2020-10-09    0     130414\n",
       "              1      32670\n",
       "2020-10-16    0     126597\n",
       "              1      31845\n",
       "2020-10-23    0      99283\n",
       "              1      24210\n",
       "2020-10-30    0     102353\n",
       "              1      25038\n",
       "2020-11-06    0      97591\n",
       "              1      23828\n",
       "2020-11-13    0      95329\n",
       "              1      23366\n",
       "2020-11-20    0      95520\n",
       "              1      23103\n",
       "2020-11-27    0      95182\n",
       "              1      23137\n",
       "2020-12-04    0     127520\n",
       "              1      31930\n",
       "2020-12-11    0     127988\n",
       "              1      31988\n",
       "2020-12-18    0     124040\n",
       "              1      31033\n",
       "2020-12-25    0     121038\n",
       "              1      30274\n",
       "2021-01-15    0     103052\n",
       "              1      25778\n",
       "dtype: int64"
      ]
     },
     "execution_count": 357,
     "metadata": {},
     "output_type": "execute_result"
    }
   ],
   "source": [
    "df_camp.groupby(['C_START_DATE', 'cg']).size()"
   ]
  },
  {
   "cell_type": "markdown",
   "metadata": {},
   "source": [
    "### datasets weekly"
   ]
  },
  {
   "cell_type": "code",
   "execution_count": 11,
   "metadata": {
    "ExecuteTime": {
     "end_time": "2021-01-20T10:33:54.406417Z",
     "start_time": "2021-01-20T10:32:43.244153Z"
    }
   },
   "outputs": [],
   "source": [
    "df_week = pd.DataFrame()\n",
    "for f in glob(r'P:\\Управление Бизнес-Аналитики\\Отток\\weekly\\*'):\n",
    "    buff = pd.read_csv(f, sep=';')\n",
    "    df_week = pd.concat([df_week, buff], axis=0)"
   ]
  },
  {
   "cell_type": "code",
   "execution_count": 12,
   "metadata": {
    "ExecuteTime": {
     "end_time": "2021-01-20T10:34:17.972786Z",
     "start_time": "2021-01-20T10:33:54.407420Z"
    },
    "scrolled": true
   },
   "outputs": [
    {
     "data": {
      "text/html": [
       "<div>\n",
       "<style scoped>\n",
       "    .dataframe tbody tr th:only-of-type {\n",
       "        vertical-align: middle;\n",
       "    }\n",
       "\n",
       "    .dataframe tbody tr th {\n",
       "        vertical-align: top;\n",
       "    }\n",
       "\n",
       "    .dataframe thead th {\n",
       "        text-align: right;\n",
       "    }\n",
       "</style>\n",
       "<table border=\"1\" class=\"dataframe\">\n",
       "  <thead>\n",
       "    <tr style=\"text-align: right;\">\n",
       "      <th></th>\n",
       "      <th>ACCOUNT_ID</th>\n",
       "      <th>C_START_DATE</th>\n",
       "      <th>MAX_DATE_BEF_CHURN</th>\n",
       "      <th>AVG_TICKET_LAST_CH</th>\n",
       "      <th>TEN_DAYS_SPEND_CH</th>\n",
       "      <th>M3_TICKET_CH</th>\n",
       "      <th>M3_TICKET_MIN</th>\n",
       "      <th>M3_TICKET_MAX</th>\n",
       "      <th>SALES_prev_churn</th>\n",
       "      <th>prev_churn_ind</th>\n",
       "      <th>balance_bef</th>\n",
       "      <th>REDEMP_RATE</th>\n",
       "      <th>days_bef_correct</th>\n",
       "      <th>fm_perc</th>\n",
       "      <th>promo_share</th>\n",
       "      <th>LIFETIME2</th>\n",
       "      <th>type_gm</th>\n",
       "      <th>filial_cfo</th>\n",
       "      <th>avg_discount</th>\n",
       "      <th>less_100_rub_share</th>\n",
       "      <th>zero_share</th>\n",
       "      <th>more5k_share</th>\n",
       "      <th>more2k_share</th>\n",
       "      <th>other_com</th>\n",
       "      <th>std</th>\n",
       "      <th>client_type</th>\n",
       "      <th>tickets_relation</th>\n",
       "      <th>traffic</th>\n",
       "      <th>repeats</th>\n",
       "      <th>client_type2</th>\n",
       "      <th>traffic_total</th>\n",
       "      <th>monthly_freq</th>\n",
       "      <th>NUM_COMS</th>\n",
       "      <th>RESP_RATE</th>\n",
       "      <th>have_mobapp_bef_com</th>\n",
       "      <th>price_score</th>\n",
       "      <th>Last_x5_purchase</th>\n",
       "      <th>X5_days_bef_com</th>\n",
       "      <th>mp_share</th>\n",
       "      <th>shops_in_X5</th>\n",
       "    </tr>\n",
       "  </thead>\n",
       "  <tbody>\n",
       "    <tr>\n",
       "      <th>0</th>\n",
       "      <td>15360985</td>\n",
       "      <td>2020-12-18</td>\n",
       "      <td>2020-06-30</td>\n",
       "      <td>3194.38</td>\n",
       "      <td>3194.38</td>\n",
       "      <td>2510.312500</td>\n",
       "      <td>1700.88</td>\n",
       "      <td>3194.38</td>\n",
       "      <td>0.0</td>\n",
       "      <td>NOT_RESPONSED</td>\n",
       "      <td>7</td>\n",
       "      <td>-0.006374</td>\n",
       "      <td>165.0</td>\n",
       "      <td>0.129326</td>\n",
       "      <td>0.585230</td>\n",
       "      <td>5.0</td>\n",
       "      <td>vyletnoi</td>\n",
       "      <td>Центральный регион</td>\n",
       "      <td>0.049558</td>\n",
       "      <td>0.000000</td>\n",
       "      <td>0.0</td>\n",
       "      <td>0.025641</td>\n",
       "      <td>0.384615</td>\n",
       "      <td>0.0</td>\n",
       "      <td>872.519173</td>\n",
       "      <td>work_days</td>\n",
       "      <td>0.000000</td>\n",
       "      <td>4</td>\n",
       "      <td>3</td>\n",
       "      <td>more_than_one_repeat</td>\n",
       "      <td>45</td>\n",
       "      <td>2.500000</td>\n",
       "      <td>9</td>\n",
       "      <td>0.111111</td>\n",
       "      <td>1.0</td>\n",
       "      <td>0.247211</td>\n",
       "      <td>129.00</td>\n",
       "      <td>155.0</td>\n",
       "      <td>1.750000</td>\n",
       "      <td>1</td>\n",
       "    </tr>\n",
       "    <tr>\n",
       "      <th>1</th>\n",
       "      <td>23010559</td>\n",
       "      <td>2020-12-18</td>\n",
       "      <td>2020-07-01</td>\n",
       "      <td>3281.27</td>\n",
       "      <td>3848.01</td>\n",
       "      <td>1326.008889</td>\n",
       "      <td>58.99</td>\n",
       "      <td>3359.00</td>\n",
       "      <td>0.0</td>\n",
       "      <td>NOT_RESPONSED</td>\n",
       "      <td>26</td>\n",
       "      <td>0.000000</td>\n",
       "      <td>259.0</td>\n",
       "      <td>0.252329</td>\n",
       "      <td>0.284597</td>\n",
       "      <td>4.0</td>\n",
       "      <td>jiloy_massiv</td>\n",
       "      <td>Северо-западный реги</td>\n",
       "      <td>0.021324</td>\n",
       "      <td>0.062500</td>\n",
       "      <td>0.0</td>\n",
       "      <td>0.000000</td>\n",
       "      <td>0.187500</td>\n",
       "      <td>0.0</td>\n",
       "      <td>1884.932082</td>\n",
       "      <td>work_days</td>\n",
       "      <td>-0.784577</td>\n",
       "      <td>9</td>\n",
       "      <td>8</td>\n",
       "      <td>more_than_one_repeat</td>\n",
       "      <td>32</td>\n",
       "      <td>2.285714</td>\n",
       "      <td>7</td>\n",
       "      <td>0.714286</td>\n",
       "      <td>1.0</td>\n",
       "      <td>0.552093</td>\n",
       "      <td>434.94</td>\n",
       "      <td>1.0</td>\n",
       "      <td>0.111111</td>\n",
       "      <td>1</td>\n",
       "    </tr>\n",
       "    <tr>\n",
       "      <th>2</th>\n",
       "      <td>55069843</td>\n",
       "      <td>2020-12-18</td>\n",
       "      <td>2020-06-30</td>\n",
       "      <td>1777.81</td>\n",
       "      <td>1777.81</td>\n",
       "      <td>1329.211667</td>\n",
       "      <td>282.73</td>\n",
       "      <td>2247.95</td>\n",
       "      <td>0.0</td>\n",
       "      <td>NOT_RESPONSED</td>\n",
       "      <td>49</td>\n",
       "      <td>0.000000</td>\n",
       "      <td>317.0</td>\n",
       "      <td>0.282825</td>\n",
       "      <td>0.331925</td>\n",
       "      <td>2.0</td>\n",
       "      <td>jiloy_massiv</td>\n",
       "      <td>Северо-западный реги</td>\n",
       "      <td>0.027156</td>\n",
       "      <td>0.035714</td>\n",
       "      <td>0.0</td>\n",
       "      <td>0.000000</td>\n",
       "      <td>0.116071</td>\n",
       "      <td>0.0</td>\n",
       "      <td>631.505562</td>\n",
       "      <td>work_days</td>\n",
       "      <td>-0.811326</td>\n",
       "      <td>6</td>\n",
       "      <td>5</td>\n",
       "      <td>more_than_one_repeat</td>\n",
       "      <td>116</td>\n",
       "      <td>6.444444</td>\n",
       "      <td>13</td>\n",
       "      <td>0.000000</td>\n",
       "      <td>1.0</td>\n",
       "      <td>0.222252</td>\n",
       "      <td>0.00</td>\n",
       "      <td>999.0</td>\n",
       "      <td>12.166667</td>\n",
       "      <td>0</td>\n",
       "    </tr>\n",
       "    <tr>\n",
       "      <th>3</th>\n",
       "      <td>12324043</td>\n",
       "      <td>2020-12-18</td>\n",
       "      <td>2020-07-02</td>\n",
       "      <td>500.43</td>\n",
       "      <td>7403.66</td>\n",
       "      <td>807.307685</td>\n",
       "      <td>60.72</td>\n",
       "      <td>2523.89</td>\n",
       "      <td>0.0</td>\n",
       "      <td>NOT_RESPONSED</td>\n",
       "      <td>66</td>\n",
       "      <td>-0.007367</td>\n",
       "      <td>253.0</td>\n",
       "      <td>0.502588</td>\n",
       "      <td>0.060708</td>\n",
       "      <td>7.0</td>\n",
       "      <td>jiloy_massiv</td>\n",
       "      <td>Уральский регион</td>\n",
       "      <td>0.035096</td>\n",
       "      <td>0.025641</td>\n",
       "      <td>0.0</td>\n",
       "      <td>0.000000</td>\n",
       "      <td>0.034188</td>\n",
       "      <td>0.0</td>\n",
       "      <td>515.158929</td>\n",
       "      <td>work_days</td>\n",
       "      <td>-0.233595</td>\n",
       "      <td>107</td>\n",
       "      <td>106</td>\n",
       "      <td>more_than_one_repeat</td>\n",
       "      <td>116</td>\n",
       "      <td>19.333333</td>\n",
       "      <td>9</td>\n",
       "      <td>0.111111</td>\n",
       "      <td>1.0</td>\n",
       "      <td>0.435603</td>\n",
       "      <td>312.45</td>\n",
       "      <td>6.0</td>\n",
       "      <td>0.102804</td>\n",
       "      <td>1</td>\n",
       "    </tr>\n",
       "    <tr>\n",
       "      <th>4</th>\n",
       "      <td>82209678</td>\n",
       "      <td>2020-12-18</td>\n",
       "      <td>2020-06-30</td>\n",
       "      <td>768.39</td>\n",
       "      <td>768.39</td>\n",
       "      <td>297.672000</td>\n",
       "      <td>64.99</td>\n",
       "      <td>768.39</td>\n",
       "      <td>0.0</td>\n",
       "      <td>NOT_RESPONSED</td>\n",
       "      <td>4</td>\n",
       "      <td>0.000000</td>\n",
       "      <td>115.0</td>\n",
       "      <td>0.116217</td>\n",
       "      <td>0.509975</td>\n",
       "      <td>1.0</td>\n",
       "      <td>vyletnoi</td>\n",
       "      <td>Средне-Волжский реги</td>\n",
       "      <td>0.000000</td>\n",
       "      <td>0.367347</td>\n",
       "      <td>0.0</td>\n",
       "      <td>0.000000</td>\n",
       "      <td>0.000000</td>\n",
       "      <td>0.0</td>\n",
       "      <td>176.013608</td>\n",
       "      <td>work_days</td>\n",
       "      <td>0.556900</td>\n",
       "      <td>5</td>\n",
       "      <td>4</td>\n",
       "      <td>more_than_one_repeat</td>\n",
       "      <td>49</td>\n",
       "      <td>4.454545</td>\n",
       "      <td>6</td>\n",
       "      <td>0.333333</td>\n",
       "      <td>0.0</td>\n",
       "      <td>0.534787</td>\n",
       "      <td>391.97</td>\n",
       "      <td>6.0</td>\n",
       "      <td>8.400000</td>\n",
       "      <td>1</td>\n",
       "    </tr>\n",
       "  </tbody>\n",
       "</table>\n",
       "</div>"
      ],
      "text/plain": [
       "  ACCOUNT_ID C_START_DATE MAX_DATE_BEF_CHURN  AVG_TICKET_LAST_CH  \\\n",
       "0   15360985   2020-12-18         2020-06-30             3194.38   \n",
       "1   23010559   2020-12-18         2020-07-01             3281.27   \n",
       "2   55069843   2020-12-18         2020-06-30             1777.81   \n",
       "3   12324043   2020-12-18         2020-07-02              500.43   \n",
       "4   82209678   2020-12-18         2020-06-30              768.39   \n",
       "\n",
       "   TEN_DAYS_SPEND_CH  M3_TICKET_CH  M3_TICKET_MIN  M3_TICKET_MAX  \\\n",
       "0            3194.38   2510.312500        1700.88        3194.38   \n",
       "1            3848.01   1326.008889          58.99        3359.00   \n",
       "2            1777.81   1329.211667         282.73        2247.95   \n",
       "3            7403.66    807.307685          60.72        2523.89   \n",
       "4             768.39    297.672000          64.99         768.39   \n",
       "\n",
       "   SALES_prev_churn prev_churn_ind  balance_bef  REDEMP_RATE  \\\n",
       "0               0.0  NOT_RESPONSED            7    -0.006374   \n",
       "1               0.0  NOT_RESPONSED           26     0.000000   \n",
       "2               0.0  NOT_RESPONSED           49     0.000000   \n",
       "3               0.0  NOT_RESPONSED           66    -0.007367   \n",
       "4               0.0  NOT_RESPONSED            4     0.000000   \n",
       "\n",
       "   days_bef_correct   fm_perc  promo_share  LIFETIME2       type_gm  \\\n",
       "0             165.0  0.129326     0.585230        5.0      vyletnoi   \n",
       "1             259.0  0.252329     0.284597        4.0  jiloy_massiv   \n",
       "2             317.0  0.282825     0.331925        2.0  jiloy_massiv   \n",
       "3             253.0  0.502588     0.060708        7.0  jiloy_massiv   \n",
       "4             115.0  0.116217     0.509975        1.0      vyletnoi   \n",
       "\n",
       "             filial_cfo  avg_discount  less_100_rub_share  zero_share  \\\n",
       "0    Центральный регион      0.049558            0.000000         0.0   \n",
       "1  Северо-западный реги      0.021324            0.062500         0.0   \n",
       "2  Северо-западный реги      0.027156            0.035714         0.0   \n",
       "3      Уральский регион      0.035096            0.025641         0.0   \n",
       "4  Средне-Волжский реги      0.000000            0.367347         0.0   \n",
       "\n",
       "   more5k_share  more2k_share  other_com          std client_type  \\\n",
       "0      0.025641      0.384615        0.0   872.519173   work_days   \n",
       "1      0.000000      0.187500        0.0  1884.932082   work_days   \n",
       "2      0.000000      0.116071        0.0   631.505562   work_days   \n",
       "3      0.000000      0.034188        0.0   515.158929   work_days   \n",
       "4      0.000000      0.000000        0.0   176.013608   work_days   \n",
       "\n",
       "   tickets_relation  traffic  repeats          client_type2  traffic_total  \\\n",
       "0          0.000000        4        3  more_than_one_repeat             45   \n",
       "1         -0.784577        9        8  more_than_one_repeat             32   \n",
       "2         -0.811326        6        5  more_than_one_repeat            116   \n",
       "3         -0.233595      107      106  more_than_one_repeat            116   \n",
       "4          0.556900        5        4  more_than_one_repeat             49   \n",
       "\n",
       "   monthly_freq  NUM_COMS  RESP_RATE  have_mobapp_bef_com  price_score  \\\n",
       "0      2.500000         9   0.111111                  1.0     0.247211   \n",
       "1      2.285714         7   0.714286                  1.0     0.552093   \n",
       "2      6.444444        13   0.000000                  1.0     0.222252   \n",
       "3     19.333333         9   0.111111                  1.0     0.435603   \n",
       "4      4.454545         6   0.333333                  0.0     0.534787   \n",
       "\n",
       "   Last_x5_purchase  X5_days_bef_com   mp_share  shops_in_X5  \n",
       "0            129.00            155.0   1.750000            1  \n",
       "1            434.94              1.0   0.111111            1  \n",
       "2              0.00            999.0  12.166667            0  \n",
       "3            312.45              6.0   0.102804            1  \n",
       "4            391.97              6.0   8.400000            1  "
      ]
     },
     "execution_count": 12,
     "metadata": {},
     "output_type": "execute_result"
    }
   ],
   "source": [
    "df_week = df_week.drop_duplicates()\n",
    "df_week['CRD_NO'] = df_week['CRD_NO'].astype(str)\n",
    "df_week.rename(columns={'BALANCE_BEF':'balance_bef', 'CRD_NO':'ACCOUNT_ID'}, inplace=True)\n",
    "df_week['C_START_DATE'] = pd.to_datetime(df_week['C_START_DATE'], format='%Y-%m-%d').dt.date +pd.Timedelta(days=1)\n",
    "df_week['MAX_DATE_BEF_CHURN'] = pd.to_datetime(df_week['MAX_DATE_BEF_CHURN'], format='%Y-%m-%d')\n",
    "df_week = df_week.replace([-np.inf, np.inf], np.nan).dropna()\n",
    "df_week.head()"
   ]
  },
  {
   "cell_type": "code",
   "execution_count": 391,
   "metadata": {
    "ExecuteTime": {
     "end_time": "2021-01-20T13:52:38.885769Z",
     "start_time": "2021-01-20T13:52:38.881758Z"
    }
   },
   "outputs": [
    {
     "data": {
      "text/plain": [
       "Index(['ACCOUNT_ID', 'C_START_DATE', 'MAX_DATE_BEF_CHURN',\n",
       "       'AVG_TICKET_LAST_CH', 'TEN_DAYS_SPEND_CH', 'M3_TICKET_CH',\n",
       "       'M3_TICKET_MIN', 'M3_TICKET_MAX', 'SALES_prev_churn', 'prev_churn_ind',\n",
       "       'balance_bef', 'REDEMP_RATE', 'days_bef_correct', 'fm_perc',\n",
       "       'promo_share', 'LIFETIME2', 'type_gm', 'filial_cfo', 'avg_discount',\n",
       "       'less_100_rub_share', 'zero_share', 'more5k_share', 'more2k_share',\n",
       "       'other_com', 'std', 'client_type', 'tickets_relation', 'traffic',\n",
       "       'repeats', 'client_type2', 'traffic_total', 'monthly_freq', 'NUM_COMS',\n",
       "       'RESP_RATE', 'have_mobapp_bef_com', 'price_score', 'Last_x5_purchase',\n",
       "       'X5_days_bef_com', 'mp_share', 'shops_in_X5'],\n",
       "      dtype='object')"
      ]
     },
     "execution_count": 391,
     "metadata": {},
     "output_type": "execute_result"
    }
   ],
   "source": [
    "df_week.columns"
   ]
  },
  {
   "cell_type": "code",
   "execution_count": 13,
   "metadata": {
    "ExecuteTime": {
     "end_time": "2021-01-20T10:34:18.128197Z",
     "start_time": "2021-01-20T10:34:17.973789Z"
    },
    "scrolled": true
   },
   "outputs": [
    {
     "data": {
      "text/plain": [
       "2020-11-20    246070\n",
       "2020-11-27    248601\n",
       "2020-12-04    254080\n",
       "2020-12-11    247019\n",
       "2020-12-18    236361\n",
       "2020-12-25    232473\n",
       "2020-12-31    226034\n",
       "2021-01-15    198958\n",
       "Name: C_START_DATE, dtype: int64"
      ]
     },
     "execution_count": 13,
     "metadata": {},
     "output_type": "execute_result"
    }
   ],
   "source": [
    "df_week.C_START_DATE.value_counts().sort_index()"
   ]
  },
  {
   "cell_type": "markdown",
   "metadata": {},
   "source": [
    "### offers"
   ]
  },
  {
   "cell_type": "code",
   "execution_count": 14,
   "metadata": {
    "ExecuteTime": {
     "end_time": "2021-01-20T10:35:48.097664Z",
     "start_time": "2021-01-20T10:34:18.129200Z"
    }
   },
   "outputs": [
    {
     "data": {
      "text/plain": [
       "2020-11-20    118623\n",
       "2020-11-27    118319\n",
       "2020-12-04    159450\n",
       "2020-12-11    160020\n",
       "2020-12-18    155104\n",
       "2020-12-25    151340\n",
       "2021-01-15    128870\n",
       "Name: C_START_DATE, dtype: int64"
      ]
     },
     "execution_count": 14,
     "metadata": {},
     "output_type": "execute_result"
    }
   ],
   "source": [
    "offers = \"\"\"select action_name, CRD_NO as ACCOUNT_ID, C_START_DATE, DISCOUNT, CG from USR_ATARASOV.communications\n",
    "where action_name like 'ottok%'\n",
    "and TO_DATE(C_START_DATE) > TO_DATE('2020-11-15', 'YYYY-MM-DD')\"\"\"\n",
    "df_offers = query_select(offers, connection_sas)\n",
    "df_offers = df_offers.drop_duplicates()\n",
    "df_offers['ACCOUNT_ID'] = df_offers['ACCOUNT_ID'].astype(str)\n",
    "df_offers['C_START_DATE'] = pd.to_datetime(df_offers['C_START_DATE'], format='%Y-%m-%d').dt.date\n",
    "df_offers.C_START_DATE.value_counts().sort_index()"
   ]
  },
  {
   "cell_type": "code",
   "execution_count": 15,
   "metadata": {
    "ExecuteTime": {
     "end_time": "2021-01-20T10:35:48.394449Z",
     "start_time": "2021-01-20T10:35:48.109695Z"
    },
    "scrolled": true
   },
   "outputs": [
    {
     "data": {
      "text/plain": [
       "C_START_DATE  DISCOUNT  CG\n",
       "2020-11-20    0.0       1     23103\n",
       "              50.0      0     20919\n",
       "              100.0     0      2210\n",
       "              150.0     0     48924\n",
       "              200.0     0     23467\n",
       "2020-11-27    0.0       1     23137\n",
       "              50.0      0     21729\n",
       "              100.0     0      2504\n",
       "              150.0     0     46914\n",
       "              200.0     0     24035\n",
       "2020-12-04    50.0      0     37494\n",
       "                        1      9559\n",
       "              100.0     0     16353\n",
       "                        1      4093\n",
       "              150.0     0     49524\n",
       "                        1     12287\n",
       "              200.0     0     24149\n",
       "                        1      5991\n",
       "2020-12-11    50.0      0     40550\n",
       "                        1      9991\n",
       "              100.0     0     16651\n",
       "                        1      4163\n",
       "              150.0     0     47510\n",
       "                        1     12040\n",
       "              200.0     0     23277\n",
       "                        1      5838\n",
       "2020-12-18    50.0      0     35628\n",
       "                        1      8920\n",
       "              100.0     0     16064\n",
       "                        1      4019\n",
       "              150.0     0     48839\n",
       "                        1     12319\n",
       "              200.0     0     23509\n",
       "                        1      5806\n",
       "2020-12-25    50.0      0     34506\n",
       "                        1      8677\n",
       "              100.0     0     16319\n",
       "                        1      4034\n",
       "              150.0     0     48178\n",
       "                        1     12073\n",
       "              200.0     0     22035\n",
       "                        1      5518\n",
       "2021-01-15    50.0      0     44475\n",
       "                        1     13044\n",
       "              100.0     0     24057\n",
       "                        1      7468\n",
       "              150.0     0     28518\n",
       "                        1      5295\n",
       "              200.0     0      6013\n",
       "dtype: int64"
      ]
     },
     "execution_count": 15,
     "metadata": {},
     "output_type": "execute_result"
    }
   ],
   "source": [
    "df_offers.groupby(['C_START_DATE', 'DISCOUNT', 'CG']).size()"
   ]
  },
  {
   "cell_type": "code",
   "execution_count": 392,
   "metadata": {
    "ExecuteTime": {
     "end_time": "2021-01-20T13:52:54.423601Z",
     "start_time": "2021-01-20T13:52:54.415579Z"
    }
   },
   "outputs": [
    {
     "data": {
      "text/html": [
       "<div>\n",
       "<style scoped>\n",
       "    .dataframe tbody tr th:only-of-type {\n",
       "        vertical-align: middle;\n",
       "    }\n",
       "\n",
       "    .dataframe tbody tr th {\n",
       "        vertical-align: top;\n",
       "    }\n",
       "\n",
       "    .dataframe thead th {\n",
       "        text-align: right;\n",
       "    }\n",
       "</style>\n",
       "<table border=\"1\" class=\"dataframe\">\n",
       "  <thead>\n",
       "    <tr style=\"text-align: right;\">\n",
       "      <th></th>\n",
       "      <th>ACTION_NAME</th>\n",
       "      <th>ACCOUNT_ID</th>\n",
       "      <th>C_START_DATE</th>\n",
       "      <th>DISCOUNT</th>\n",
       "      <th>CG</th>\n",
       "    </tr>\n",
       "  </thead>\n",
       "  <tbody>\n",
       "    <tr>\n",
       "      <th>0</th>\n",
       "      <td>ottok_2011</td>\n",
       "      <td>13580472</td>\n",
       "      <td>2020-11-20</td>\n",
       "      <td>150.0</td>\n",
       "      <td>0</td>\n",
       "    </tr>\n",
       "    <tr>\n",
       "      <th>1</th>\n",
       "      <td>ottok_2011</td>\n",
       "      <td>14484683</td>\n",
       "      <td>2020-11-20</td>\n",
       "      <td>150.0</td>\n",
       "      <td>0</td>\n",
       "    </tr>\n",
       "    <tr>\n",
       "      <th>2</th>\n",
       "      <td>ottok_2011</td>\n",
       "      <td>27371407</td>\n",
       "      <td>2020-11-20</td>\n",
       "      <td>150.0</td>\n",
       "      <td>0</td>\n",
       "    </tr>\n",
       "    <tr>\n",
       "      <th>3</th>\n",
       "      <td>ottok_2011</td>\n",
       "      <td>57200307</td>\n",
       "      <td>2020-11-20</td>\n",
       "      <td>150.0</td>\n",
       "      <td>0</td>\n",
       "    </tr>\n",
       "    <tr>\n",
       "      <th>4</th>\n",
       "      <td>ottok_2011</td>\n",
       "      <td>22900954</td>\n",
       "      <td>2020-11-20</td>\n",
       "      <td>150.0</td>\n",
       "      <td>0</td>\n",
       "    </tr>\n",
       "  </tbody>\n",
       "</table>\n",
       "</div>"
      ],
      "text/plain": [
       "  ACTION_NAME ACCOUNT_ID C_START_DATE  DISCOUNT CG\n",
       "0  ottok_2011   13580472   2020-11-20     150.0  0\n",
       "1  ottok_2011   14484683   2020-11-20     150.0  0\n",
       "2  ottok_2011   27371407   2020-11-20     150.0  0\n",
       "3  ottok_2011   57200307   2020-11-20     150.0  0\n",
       "4  ottok_2011   22900954   2020-11-20     150.0  0"
      ]
     },
     "execution_count": 392,
     "metadata": {},
     "output_type": "execute_result"
    }
   ],
   "source": [
    "df_offers.head()"
   ]
  },
  {
   "cell_type": "markdown",
   "metadata": {},
   "source": [
    "### merge"
   ]
  },
  {
   "cell_type": "code",
   "execution_count": 358,
   "metadata": {
    "ExecuteTime": {
     "end_time": "2021-01-20T13:44:06.546535Z",
     "start_time": "2021-01-20T13:43:54.571819Z"
    }
   },
   "outputs": [
    {
     "data": {
      "text/plain": [
       "0.0    848016\n",
       "1.0    143567\n",
       "Name: vis, dtype: int64"
      ]
     },
     "execution_count": 358,
     "metadata": {},
     "output_type": "execute_result"
    }
   ],
   "source": [
    "df_camp['C_START_DATE'] = pd.to_datetime(df_camp['C_START_DATE'], format='%Y-%m-%d').dt.date\n",
    "df_all = df_week.merge(df_camp, how='left', on=['ACCOUNT_ID', 'C_START_DATE'])\n",
    "df_all = df_all.merge(df_offers, how='left', on=['ACCOUNT_ID', 'C_START_DATE'])\n",
    "df_all = df_all.loc[df_all.ACTION_NAME.isnull()==False]\n",
    "df_all.loc[df_all['cg']==df_all['CG']]\n",
    "df_all = df_all.drop_duplicates(subset=['C_START_DATE', 'ACCOUNT_ID'])\n",
    "df_all['treat'] = 0\n",
    "df_all.loc[df_all['cg']=='0', 'treat'] = 1\n",
    "df_all.vis.value_counts()"
   ]
  },
  {
   "cell_type": "code",
   "execution_count": 359,
   "metadata": {
    "ExecuteTime": {
     "end_time": "2021-01-20T13:44:10.711316Z",
     "start_time": "2021-01-20T13:44:06.548300Z"
    }
   },
   "outputs": [
    {
     "data": {
      "text/plain": [
       "((991583, 60), (991583, 60))"
      ]
     },
     "execution_count": 359,
     "metadata": {},
     "output_type": "execute_result"
    }
   ],
   "source": [
    "df_all.shape, df_all.drop_duplicates().shape"
   ]
  },
  {
   "cell_type": "code",
   "execution_count": 360,
   "metadata": {
    "ExecuteTime": {
     "end_time": "2021-01-20T13:44:19.423373Z",
     "start_time": "2021-01-20T13:44:10.712319Z"
    }
   },
   "outputs": [],
   "source": [
    "df_all['MAX_DATE_BEF_CHURN'] = df_all['MAX_DATE_BEF_CHURN'].astype(str)\n",
    "df_all['C_START_DATE'] = df_all['C_START_DATE'].astype(str)\n",
    "df_all['C_END_DATE'] = df_all['C_END_DATE'].astype(str)"
   ]
  },
  {
   "cell_type": "code",
   "execution_count": 361,
   "metadata": {
    "ExecuteTime": {
     "end_time": "2021-01-20T13:44:20.105177Z",
     "start_time": "2021-01-20T13:44:19.424376Z"
    }
   },
   "outputs": [],
   "source": [
    "df_all['last_trn'] = (pd.to_datetime(df_all['C_START_DATE'], format='%Y-%m-%d')-pd.to_datetime(df_all['MAX_DATE_BEF_CHURN'], format='%Y-%m-%d')).dt.days\n",
    "df_all['last_trn_100'] = 0\n",
    "df_all.loc[df_all['last_trn']>100, 'last_trn_100'] = 1"
   ]
  },
  {
   "cell_type": "code",
   "execution_count": 395,
   "metadata": {
    "ExecuteTime": {
     "end_time": "2021-01-20T13:53:24.345388Z",
     "start_time": "2021-01-20T13:53:24.333355Z"
    }
   },
   "outputs": [
    {
     "data": {
      "text/plain": [
       "(61, 62)"
      ]
     },
     "execution_count": 395,
     "metadata": {},
     "output_type": "execute_result"
    }
   ],
   "source": [
    "df_all.loc[((df_all.RED_POINTS<0) & (df_all.vis==0))].shape"
   ]
  },
  {
   "cell_type": "code",
   "execution_count": 364,
   "metadata": {
    "ExecuteTime": {
     "end_time": "2021-01-20T13:44:49.387318Z",
     "start_time": "2021-01-20T13:44:49.384310Z"
    }
   },
   "outputs": [
    {
     "data": {
      "text/plain": [
       "(991538, 62)"
      ]
     },
     "execution_count": 364,
     "metadata": {},
     "output_type": "execute_result"
    }
   ],
   "source": [
    "df_all.shape"
   ]
  },
  {
   "cell_type": "code",
   "execution_count": 365,
   "metadata": {
    "ExecuteTime": {
     "end_time": "2021-01-20T13:44:51.420816Z",
     "start_time": "2021-01-20T13:44:51.283405Z"
    },
    "scrolled": true
   },
   "outputs": [
    {
     "data": {
      "text/plain": [
       "C_START_DATE  DISCOUNT  CG\n",
       "2020-11-20    0.0       1     23103\n",
       "              50.0      0     20919\n",
       "              100.0     0      2210\n",
       "              150.0     0     48922\n",
       "              200.0     0     23467\n",
       "2020-11-27    0.0       1     23134\n",
       "              50.0      0     21726\n",
       "              100.0     0      2503\n",
       "              150.0     0     46914\n",
       "              200.0     0     24035\n",
       "2020-12-04    50.0      0     37490\n",
       "                        1      9558\n",
       "              100.0     0     16352\n",
       "                        1      4093\n",
       "              150.0     0     49523\n",
       "                        1     12286\n",
       "              200.0     0     24149\n",
       "                        1      5991\n",
       "2020-12-11    50.0      0     40542\n",
       "                        1      9979\n",
       "              100.0     0     16649\n",
       "                        1      4160\n",
       "              150.0     0     47505\n",
       "                        1     12028\n",
       "              200.0     0     23274\n",
       "                        1      5829\n",
       "2020-12-18    50.0      0     35620\n",
       "                        1      8917\n",
       "              100.0     0     16063\n",
       "                        1      4013\n",
       "              150.0     0     48834\n",
       "                        1     12311\n",
       "              200.0     0     23508\n",
       "                        1      5804\n",
       "2020-12-25    50.0      0     34495\n",
       "                        1      8668\n",
       "              100.0     0     16319\n",
       "                        1      4032\n",
       "              150.0     0     48173\n",
       "                        1     12067\n",
       "              200.0     0     22035\n",
       "                        1      5512\n",
       "2021-01-15    50.0      0     44467\n",
       "                        1     13032\n",
       "              100.0     0     24052\n",
       "                        1      7458\n",
       "              150.0     0     28511\n",
       "                        1      5294\n",
       "              200.0     0      6012\n",
       "dtype: int64"
      ]
     },
     "execution_count": 365,
     "metadata": {},
     "output_type": "execute_result"
    }
   ],
   "source": [
    "df_all.groupby(['C_START_DATE', 'DISCOUNT', 'CG']).size()"
   ]
  },
  {
   "cell_type": "code",
   "execution_count": 21,
   "metadata": {
    "ExecuteTime": {
     "end_time": "2021-01-20T10:36:14.119531Z",
     "start_time": "2021-01-20T10:36:14.073410Z"
    }
   },
   "outputs": [
    {
     "data": {
      "text/plain": [
       "['2020-11-20',\n",
       " '2020-11-27',\n",
       " '2020-12-04',\n",
       " '2020-12-11',\n",
       " '2020-12-18',\n",
       " '2020-12-25',\n",
       " '2021-01-15']"
      ]
     },
     "execution_count": 21,
     "metadata": {},
     "output_type": "execute_result"
    }
   ],
   "source": [
    "sorted(df_all.C_START_DATE.unique())"
   ]
  },
  {
   "cell_type": "markdown",
   "metadata": {
    "ExecuteTime": {
     "end_time": "2020-12-14T16:33:48.542343Z",
     "start_time": "2020-12-14T16:33:46.751604Z"
    }
   },
   "source": [
    "### train&test"
   ]
  },
  {
   "cell_type": "code",
   "execution_count": 366,
   "metadata": {
    "ExecuteTime": {
     "end_time": "2021-01-20T13:44:57.665053Z",
     "start_time": "2021-01-20T13:44:57.583836Z"
    }
   },
   "outputs": [
    {
     "data": {
      "text/plain": [
       "(['2020-12-04', '2020-12-11', '2020-12-18'], '2020-12-25')"
      ]
     },
     "execution_count": 366,
     "metadata": {},
     "output_type": "execute_result"
    }
   ],
   "source": [
    "train_date = sorted(df_all.C_START_DATE.unique())[2:-2]\n",
    "test_date = sorted(df_all.C_START_DATE.unique())[-2]\n",
    "train_date, test_date"
   ]
  },
  {
   "cell_type": "code",
   "execution_count": 367,
   "metadata": {
    "ExecuteTime": {
     "end_time": "2021-01-20T13:44:59.207982Z",
     "start_time": "2021-01-20T13:44:59.201966Z"
    }
   },
   "outputs": [],
   "source": [
    "feature_col = [\n",
    "#         'C_START_DATE', 'MAX_DATE_BEF_CHURN',\n",
    "       'AVG_TICKET_LAST_CH', 'TEN_DAYS_SPEND_CH', 'M3_TICKET_CH',\n",
    "       'M3_TICKET_MIN', 'M3_TICKET_MAX', 'SALES_prev_churn', 'prev_churn_ind',\n",
    "       'balance_bef', 'REDEMP_RATE', 'days_bef_correct', 'fm_perc',\n",
    "       'promo_share', 'LIFETIME2', 'type_gm', 'filial_cfo', 'avg_discount',\n",
    "       'less_100_rub_share', 'zero_share', 'more5k_share', 'more2k_share',\n",
    "       'other_com', 'std', 'client_type', 'tickets_relation', 'traffic',\n",
    "       'repeats', 'client_type2', 'traffic_total', 'monthly_freq', 'NUM_COMS',\n",
    "       'RESP_RATE', 'have_mobapp_bef_com', 'price_score', 'Last_x5_purchase',\n",
    "       'X5_days_bef_com', 'mp_share', 'shops_in_X5', 'last_trn', 'last_trn_100', 'vis_sum',\n",
    "       'RED_POINTS_sum', 'RED_POINTS_max', 'RED_POINTS_cnt', 'last_camp'\n",
    "#     ,'C_END_DATE'\n",
    "]"
   ]
  },
  {
   "cell_type": "code",
   "execution_count": 368,
   "metadata": {
    "ExecuteTime": {
     "end_time": "2021-01-20T13:45:01.446708Z",
     "start_time": "2021-01-20T13:44:59.886579Z"
    }
   },
   "outputs": [],
   "source": [
    "X_train = df_all.loc[df_all.C_START_DATE.isin(train_date)][feature_col].copy()\n",
    "X_test = df_all.loc[df_all.C_START_DATE==test_date][feature_col].copy()\n",
    "\n",
    "train_crd = df_all.loc[df_all.C_START_DATE.isin(train_date)]['ACCOUNT_ID']\n",
    "test_crd = df_all.loc[df_all.C_START_DATE==test_date]['ACCOUNT_ID']\n",
    "\n",
    "offer_train = df_all.loc[df_all.C_START_DATE.isin(train_date)]['DISCOUNT']\n",
    "offer_test = df_all.loc[df_all.C_START_DATE==test_date]['DISCOUNT'] \n",
    "\n",
    "treat_train = df_all.loc[df_all.C_START_DATE.isin(train_date)]['treat']\n",
    "treat_test = df_all.loc[df_all.C_START_DATE==test_date]['treat']\n",
    "\n",
    "y_train = df_all.loc[df_all.C_START_DATE.isin(train_date)]['vis']\n",
    "y_test = df_all.loc[df_all.C_START_DATE==test_date]['vis']"
   ]
  },
  {
   "cell_type": "code",
   "execution_count": 26,
   "metadata": {
    "ExecuteTime": {
     "end_time": "2021-01-20T10:39:33.799717Z",
     "start_time": "2021-01-20T10:39:33.464831Z"
    }
   },
   "outputs": [
    {
     "data": {
      "text/plain": [
       "C_START_DATE  cg  DISCOUNT\n",
       "2020-12-04    0   150.0       0.388363\n",
       "                  50.0        0.294024\n",
       "                  200.0       0.189374\n",
       "                  100.0       0.128239\n",
       "              1   150.0       0.384811\n",
       "                  50.0        0.299374\n",
       "                  200.0       0.187629\n",
       "                  100.0       0.128187\n",
       "2020-12-11    0   150.0       0.371207\n",
       "                  50.0        0.316827\n",
       "                  200.0       0.181869\n",
       "                  100.0       0.130098\n",
       "              1   150.0       0.375953\n",
       "                  50.0        0.311929\n",
       "                  200.0       0.182131\n",
       "                  100.0       0.129986\n",
       "2020-12-18    0   150.0       0.393736\n",
       "                  50.0        0.287230\n",
       "                  200.0       0.189528\n",
       "                  100.0       0.129507\n",
       "              1   150.0       0.396578\n",
       "                  50.0        0.287146\n",
       "                  200.0       0.186994\n",
       "                  100.0       0.129282\n",
       "Name: DISCOUNT, dtype: float64"
      ]
     },
     "execution_count": 26,
     "metadata": {},
     "output_type": "execute_result"
    }
   ],
   "source": [
    "df_all.loc[df_all.C_START_DATE.isin(train_date)\n",
    "                       ].groupby(['C_START_DATE','cg'])['DISCOUNT'].value_counts(normalize=True)"
   ]
  },
  {
   "cell_type": "code",
   "execution_count": 27,
   "metadata": {
    "ExecuteTime": {
     "end_time": "2021-01-20T10:39:38.022841Z",
     "start_time": "2021-01-20T10:39:37.898512Z"
    }
   },
   "outputs": [
    {
     "data": {
      "text/plain": [
       "cg  DISCOUNT\n",
       "0   150.0       0.398040\n",
       "    50.0        0.285084\n",
       "    200.0       0.182050\n",
       "    100.0       0.134825\n",
       "1   150.0       0.398461\n",
       "    50.0        0.286252\n",
       "    200.0       0.182070\n",
       "    100.0       0.133217\n",
       "Name: DISCOUNT, dtype: float64"
      ]
     },
     "execution_count": 27,
     "metadata": {},
     "output_type": "execute_result"
    }
   ],
   "source": [
    "df_all.loc[df_all.C_START_DATE==test_date\n",
    "                       ].groupby(['cg'])['DISCOUNT'].value_counts(normalize=True)"
   ]
  },
  {
   "cell_type": "markdown",
   "metadata": {},
   "source": [
    "## uplift"
   ]
  },
  {
   "cell_type": "code",
   "execution_count": 28,
   "metadata": {
    "ExecuteTime": {
     "end_time": "2021-01-20T10:39:47.487878Z",
     "start_time": "2021-01-20T10:39:47.476849Z"
    }
   },
   "outputs": [],
   "source": [
    "models_results = {\n",
    "    'approach': [],\n",
    "    'uplift@30%': []\n",
    "}"
   ]
  },
  {
   "cell_type": "code",
   "execution_count": 29,
   "metadata": {
    "ExecuteTime": {
     "end_time": "2021-01-20T10:39:48.190206Z",
     "start_time": "2021-01-20T10:39:48.159123Z"
    }
   },
   "outputs": [
    {
     "data": {
      "text/plain": [
       "[6, 13, 14, 22, 26]"
      ]
     },
     "execution_count": 29,
     "metadata": {},
     "output_type": "execute_result"
    }
   ],
   "source": [
    "categ = [X_train.columns.get_loc(c) for c in X_train.select_dtypes(include='object').columns]\n",
    "categ"
   ]
  },
  {
   "cell_type": "code",
   "execution_count": 30,
   "metadata": {
    "ExecuteTime": {
     "end_time": "2021-01-20T10:39:48.922948Z",
     "start_time": "2021-01-20T10:39:48.910917Z"
    }
   },
   "outputs": [
    {
     "data": {
      "text/plain": [
       "1    0.799892\n",
       "0    0.200108\n",
       "Name: treat, dtype: float64"
      ]
     },
     "execution_count": 30,
     "metadata": {},
     "output_type": "execute_result"
    }
   ],
   "source": [
    "treat_train.value_counts(normalize=True)"
   ]
  },
  {
   "cell_type": "code",
   "execution_count": 31,
   "metadata": {
    "ExecuteTime": {
     "end_time": "2021-01-20T10:39:49.635404Z",
     "start_time": "2021-01-20T10:39:49.623372Z"
    }
   },
   "outputs": [
    {
     "data": {
      "text/plain": [
       "1    0.799923\n",
       "0    0.200077\n",
       "Name: treat, dtype: float64"
      ]
     },
     "execution_count": 31,
     "metadata": {},
     "output_type": "execute_result"
    }
   ],
   "source": [
    "treat_test.value_counts(normalize=True)"
   ]
  },
  {
   "cell_type": "markdown",
   "metadata": {},
   "source": [
    "### solo"
   ]
  },
  {
   "cell_type": "code",
   "execution_count": 32,
   "metadata": {
    "ExecuteTime": {
     "end_time": "2021-01-20T10:42:15.838306Z",
     "start_time": "2021-01-20T10:40:19.982505Z"
    }
   },
   "outputs": [
    {
     "data": {
      "text/plain": [
       "<matplotlib.axes._subplots.AxesSubplot at 0x2d7604eb0b8>"
      ]
     },
     "execution_count": 32,
     "metadata": {},
     "output_type": "execute_result"
    },
    {
     "data": {
      "image/png": "[encoded data removed]",
      "text/plain": [
       "<Figure size 1440x504 with 3 Axes>"
      ]
     },
     "metadata": {
      "needs_background": "light"
     },
     "output_type": "display_data"
    },
    {
     "data": {
      "image/png": "[encoded data removed]",
      "text/plain": [
       "<Figure size 576x432 with 1 Axes>"
      ]
     },
     "metadata": {
      "needs_background": "light"
     },
     "output_type": "display_data"
    }
   ],
   "source": [
    "from catboost import CatBoostClassifier, CatBoostRegressor\n",
    "from sklift1.metrics import uplift_at_k\n",
    "from sklift1.viz import plot_uplift_preds, plot_qini_curve\n",
    "from sklift1.models import SoloModel\n",
    "\n",
    "# sklift поддерживает любые модели, \n",
    "# которые удовлетворяют соглашениями scikit-learn\n",
    "# Для примера воспользуемся catboost\n",
    "from catboost import CatBoostClassifier, CatBoostRegressor\n",
    "\n",
    "sm = SoloModel(CatBoostClassifier(thread_count=2\n",
    "                                  , random_state=42\n",
    "                                  , silent=True\n",
    "                                  , task_type=\"GPU\"\n",
    "                                  , devices='0:1'\n",
    "                                 ))\n",
    "\n",
    "sm = sm.fit(X_train, y_train, treat_train\n",
    "            , estimator_fit_params={'cat_features': categ}\n",
    "           )\n",
    "\n",
    "\n",
    "uplift_sm = sm.predict(X_test)\n",
    "\n",
    "sm_score = uplift_at_k(y_true=y_test, uplift=uplift_sm, treatment=treat_test, strategy='by_group', k=0.3)\n",
    "\n",
    "models_results['approach'].append('SoloModel')\n",
    "models_results['uplift@30%'].append(sm_score)\n",
    "\n",
    "# Получим условные вероятности выполнения целевого действия при взаимодействии для каждого объекта\n",
    "sm_trmnt_preds = sm.trmnt_preds_\n",
    "# И условные вероятности выполнения целевого действия без взаимодействия для каждого объекта\n",
    "sm_ctrl_preds = sm.ctrl_preds_\n",
    "\n",
    "# Отрисуем распределения вероятностей и их разность (uplift)\n",
    "plot_uplift_preds(trmnt_preds=sm_trmnt_preds, ctrl_preds=sm_ctrl_preds);\n",
    "\n",
    "plot_qini_curve(y_true=y_test, uplift=uplift_sm, treatment=treat_test)"
   ]
  },
  {
   "cell_type": "code",
   "execution_count": 33,
   "metadata": {
    "ExecuteTime": {
     "end_time": "2021-01-20T10:45:01.692606Z",
     "start_time": "2021-01-20T10:45:01.688595Z"
    }
   },
   "outputs": [
    {
     "data": {
      "text/plain": [
       "{'approach': ['SoloModel'], 'uplift@30%': [0.01603820456558791]}"
      ]
     },
     "execution_count": 33,
     "metadata": {},
     "output_type": "execute_result"
    }
   ],
   "source": [
    "models_results"
   ]
  },
  {
   "cell_type": "markdown",
   "metadata": {},
   "source": [
    "### class transform"
   ]
  },
  {
   "cell_type": "code",
   "execution_count": 35,
   "metadata": {
    "ExecuteTime": {
     "end_time": "2021-01-20T10:48:19.173131Z",
     "start_time": "2021-01-20T10:48:19.152075Z"
    }
   },
   "outputs": [
    {
     "data": {
      "text/plain": [
       "(0.5, 0.5)"
      ]
     },
     "execution_count": 35,
     "metadata": {},
     "output_type": "execute_result"
    }
   ],
   "source": [
    "p_train = y_train.loc[treat_train==1].shape[0]/y_train.shape[0]\n",
    "p_test = y_test.loc[treat_test==1].shape[0]/y_test.shape[0]\n",
    "p_train = 0.5\n",
    "p_test=0.5\n",
    "p_train, p_test"
   ]
  },
  {
   "cell_type": "code",
   "execution_count": 42,
   "metadata": {
    "ExecuteTime": {
     "end_time": "2021-01-20T10:49:04.848544Z",
     "start_time": "2021-01-20T10:49:04.836513Z"
    }
   },
   "outputs": [],
   "source": [
    "z_train = y_train*(treat_train-p_train)/(p_train*(1-p_train))\n",
    "z_test = y_test*(treat_test-p_test)/(p_test*(1-p_test))"
   ]
  },
  {
   "cell_type": "code",
   "execution_count": 43,
   "metadata": {
    "ExecuteTime": {
     "end_time": "2021-01-20T10:49:05.420482Z",
     "start_time": "2021-01-20T10:49:05.409453Z"
    }
   },
   "outputs": [
    {
     "data": {
      "text/plain": [
       "-0.0    401873\n",
       " 2.0     58889\n",
       "-2.0     13737\n",
       "dtype: int64"
      ]
     },
     "execution_count": 43,
     "metadata": {},
     "output_type": "execute_result"
    }
   ],
   "source": [
    "z_train.value_counts()"
   ]
  },
  {
   "cell_type": "code",
   "execution_count": 44,
   "metadata": {
    "ExecuteTime": {
     "end_time": "2021-01-20T10:50:38.531765Z",
     "start_time": "2021-01-20T10:50:38.524746Z"
    }
   },
   "outputs": [],
   "source": [
    "z_train = (treat_train==y_train).astype(int)\n",
    "z_test = (treat_test==y_test).astype(int)"
   ]
  },
  {
   "cell_type": "code",
   "execution_count": 45,
   "metadata": {
    "ExecuteTime": {
     "end_time": "2021-01-20T10:50:40.092050Z",
     "start_time": "2021-01-20T10:50:40.081021Z"
    }
   },
   "outputs": [
    {
     "data": {
      "text/plain": [
       "0    334396\n",
       "1    140103\n",
       "dtype: int64"
      ]
     },
     "execution_count": 45,
     "metadata": {},
     "output_type": "execute_result"
    }
   ],
   "source": [
    "z_train.value_counts()"
   ]
  },
  {
   "cell_type": "markdown",
   "metadata": {},
   "source": [
    "#### balance optimal offer classifier"
   ]
  },
  {
   "cell_type": "code",
   "execution_count": 47,
   "metadata": {
    "ExecuteTime": {
     "end_time": "2021-01-20T10:54:33.315108Z",
     "start_time": "2021-01-20T10:52:02.595761Z"
    },
    "scrolled": true
   },
   "outputs": [
    {
     "name": "stdout",
     "output_type": "stream",
     "text": [
      "0.011819720254052535\n",
      "0.0173394585888354\n",
      "0.013747768481090883\n",
      "0.010021317407266334\n"
     ]
    },
    {
     "data": {
      "image/png": "[encoded data removed]",
      "text/plain": [
       "<Figure size 576x432 with 1 Axes>"
      ]
     },
     "metadata": {
      "needs_background": "light"
     },
     "output_type": "display_data"
    },
    {
     "data": {
      "image/png": "[encoded data removed]",
      "text/plain": [
       "<Figure size 576x432 with 1 Axes>"
      ]
     },
     "metadata": {
      "needs_background": "light"
     },
     "output_type": "display_data"
    },
    {
     "data": {
      "image/png": "[encoded data removed]",
      "text/plain": [
       "<Figure size 576x432 with 1 Axes>"
      ]
     },
     "metadata": {
      "needs_background": "light"
     },
     "output_type": "display_data"
    },
    {
     "data": {
      "image/png": "[encoded data removed]",
      "text/plain": [
       "<Figure size 576x432 with 1 Axes>"
      ]
     },
     "metadata": {
      "needs_background": "light"
     },
     "output_type": "display_data"
    }
   ],
   "source": [
    "from sklift1.models import ClassTransformation\n",
    "from sklift1.viz import plot_uplift_preds, plot_qini_curve\n",
    "from sklift1.metrics import uplift_at_k\n",
    "from catboost import CatBoostClassifier\n",
    "\n",
    "# Так как подход требует, чтобы доля объектов тестовой группы\n",
    "# равнялась доле объектов контрольной группы, воспользуемся\n",
    "# встроенной функцией, уравнивающей группы\n",
    "# (Возвращает np.array)\n",
    "\n",
    "ct = ClassTransformation(CatBoostClassifier(\n",
    "                                thread_count=2\n",
    "                              , eval_metric='AUC'\n",
    "                              , loss_function= 'Logloss'\n",
    "                              , random_state=43\n",
    "                              , silent=True\n",
    "                              , depth = 4\n",
    "                              , iterations=1000\n",
    "                              , learning_rate=0.05\n",
    "                              , task_type=\"GPU\"\n",
    "                              , devices='0:1'\n",
    "                              , custom_loss=['Precision', 'Recall'] \n",
    "                                           )\n",
    "                        )                \n",
    "uplift_df = pd.DataFrame()                        \n",
    "for treat in offer_train.unique():\n",
    "    treat_shape = X_train.loc[(offer_train==treat) & (treat_train==1)].index\n",
    "    cg_shape = X_train.loc[(offer_train==treat) & (treat_train==0)].index\n",
    "    if len(cg_shape) > len(treat_shape):    \n",
    "        y_train_balance = pd.concat([y_train.loc[treat_shape], y_train.loc[cg_shape].sample(n=len(treat_shape))], axis=0)\n",
    "        X_train_balance = X_train.loc[y_train_balance.index]\n",
    "        treat_train_balance = treat_train.loc[y_train_balance.index]\n",
    "    else:\n",
    "        y_train_balance = pd.concat([y_train.loc[treat_shape].sample(n=len(cg_shape)), y_train.loc[cg_shape]], axis=0)\n",
    "        X_train_balance = X_train.loc[y_train_balance.index]\n",
    "        treat_train_balance = treat_train.loc[y_train_balance.index]\n",
    "        \n",
    "            \n",
    "    ct = ct.fit(X_train_balance, y_train_balance, treat_train_balance,\n",
    "                estimator_fit_params={'cat_features': categ,\n",
    "                                      'plot':False})\n",
    "\n",
    "    uplift_ct = pd.Series(2 * ct.estimator.predict_proba(X_test)[:, 1] - 1, name=str(treat))\n",
    "    uplift_df = pd.concat([uplift_df, uplift_ct], axis=1)\n",
    "    ct_score =  uplift_at_k(y_true=y_test, uplift=uplift_ct, treatment=treat_test, strategy='by_group', k=0.3)\n",
    "    print(ct_score)\n",
    "\n",
    "#     models_results['approach'].append('ClassTransformation')\n",
    "#     models_results['uplift@30%'].append(ct_score)\n",
    "\n",
    "    plot_qini_curve(y_true=y_test, uplift=uplift_ct, treatment=treat_test);"
   ]
  },
  {
   "cell_type": "code",
   "execution_count": 48,
   "metadata": {
    "ExecuteTime": {
     "end_time": "2021-01-20T11:04:44.438409Z",
     "start_time": "2021-01-20T11:04:44.427379Z"
    }
   },
   "outputs": [
    {
     "data": {
      "text/html": [
       "<div>\n",
       "<style scoped>\n",
       "    .dataframe tbody tr th:only-of-type {\n",
       "        vertical-align: middle;\n",
       "    }\n",
       "\n",
       "    .dataframe tbody tr th {\n",
       "        vertical-align: top;\n",
       "    }\n",
       "\n",
       "    .dataframe thead th {\n",
       "        text-align: right;\n",
       "    }\n",
       "</style>\n",
       "<table border=\"1\" class=\"dataframe\">\n",
       "  <thead>\n",
       "    <tr style=\"text-align: right;\">\n",
       "      <th></th>\n",
       "      <th>200.0</th>\n",
       "      <th>50.0</th>\n",
       "      <th>150.0</th>\n",
       "      <th>100.0</th>\n",
       "    </tr>\n",
       "  </thead>\n",
       "  <tbody>\n",
       "    <tr>\n",
       "      <th>0</th>\n",
       "      <td>0.086918</td>\n",
       "      <td>0.083581</td>\n",
       "      <td>0.131467</td>\n",
       "      <td>0.152470</td>\n",
       "    </tr>\n",
       "    <tr>\n",
       "      <th>1</th>\n",
       "      <td>0.027765</td>\n",
       "      <td>0.019766</td>\n",
       "      <td>0.144092</td>\n",
       "      <td>-0.012471</td>\n",
       "    </tr>\n",
       "    <tr>\n",
       "      <th>2</th>\n",
       "      <td>0.023595</td>\n",
       "      <td>-0.118645</td>\n",
       "      <td>-0.115086</td>\n",
       "      <td>0.010560</td>\n",
       "    </tr>\n",
       "    <tr>\n",
       "      <th>3</th>\n",
       "      <td>0.001719</td>\n",
       "      <td>0.132692</td>\n",
       "      <td>0.027531</td>\n",
       "      <td>0.021891</td>\n",
       "    </tr>\n",
       "    <tr>\n",
       "      <th>4</th>\n",
       "      <td>-0.589675</td>\n",
       "      <td>0.135587</td>\n",
       "      <td>-0.036035</td>\n",
       "      <td>0.132662</td>\n",
       "    </tr>\n",
       "  </tbody>\n",
       "</table>\n",
       "</div>"
      ],
      "text/plain": [
       "      200.0      50.0     150.0     100.0\n",
       "0  0.086918  0.083581  0.131467  0.152470\n",
       "1  0.027765  0.019766  0.144092 -0.012471\n",
       "2  0.023595 -0.118645 -0.115086  0.010560\n",
       "3  0.001719  0.132692  0.027531  0.021891\n",
       "4 -0.589675  0.135587 -0.036035  0.132662"
      ]
     },
     "execution_count": 48,
     "metadata": {},
     "output_type": "execute_result"
    }
   ],
   "source": [
    "uplift_df.head()"
   ]
  },
  {
   "cell_type": "code",
   "execution_count": 49,
   "metadata": {
    "ExecuteTime": {
     "end_time": "2021-01-20T11:04:51.110454Z",
     "start_time": "2021-01-20T11:04:50.951031Z"
    }
   },
   "outputs": [
    {
     "data": {
      "text/plain": [
       "200    44833\n",
       "100    40755\n",
       "50     34500\n",
       "150    31224\n",
       "dtype: int64"
      ]
     },
     "execution_count": 49,
     "metadata": {},
     "output_type": "execute_result"
    }
   ],
   "source": [
    "up_max = uplift_df.idxmax(axis=1).astype(float).astype(int)\n",
    "up_max.value_counts()"
   ]
  },
  {
   "cell_type": "code",
   "execution_count": 50,
   "metadata": {
    "ExecuteTime": {
     "end_time": "2021-01-20T11:04:53.636255Z",
     "start_time": "2021-01-20T11:04:53.624222Z"
    }
   },
   "outputs": [
    {
     "data": {
      "text/plain": [
       "150.0    60241\n",
       "50.0     43172\n",
       "200.0    27547\n",
       "100.0    20352\n",
       "Name: DISCOUNT, dtype: int64"
      ]
     },
     "execution_count": 50,
     "metadata": {},
     "output_type": "execute_result"
    }
   ],
   "source": [
    "offer_test.value_counts()"
   ]
  },
  {
   "cell_type": "code",
   "execution_count": 51,
   "metadata": {
    "ExecuteTime": {
     "end_time": "2021-01-20T11:04:55.339592Z",
     "start_time": "2021-01-20T11:04:55.327559Z"
    }
   },
   "outputs": [
    {
     "data": {
      "text/plain": [
       "(151312,)"
      ]
     },
     "execution_count": 51,
     "metadata": {},
     "output_type": "execute_result"
    }
   ],
   "source": [
    "y_test.shape"
   ]
  },
  {
   "cell_type": "code",
   "execution_count": 52,
   "metadata": {
    "ExecuteTime": {
     "end_time": "2021-01-20T11:04:57.317797Z",
     "start_time": "2021-01-20T11:04:57.064125Z"
    }
   },
   "outputs": [
    {
     "data": {
      "text/plain": [
       "30441"
      ]
     },
     "execution_count": 52,
     "metadata": {},
     "output_type": "execute_result"
    }
   ],
   "source": [
    "sum(offer_test.values == up_max.values)"
   ]
  },
  {
   "cell_type": "code",
   "execution_count": 53,
   "metadata": {
    "ExecuteTime": {
     "end_time": "2021-01-20T11:05:01.922899Z",
     "start_time": "2021-01-20T11:05:01.204700Z"
    }
   },
   "outputs": [
    {
     "data": {
      "image/png": "[encoded data removed]",
      "text/plain": [
       "<Figure size 576x432 with 1 Axes>"
      ]
     },
     "metadata": {
      "needs_background": "light"
     },
     "output_type": "display_data"
    }
   ],
   "source": [
    "plot_qini_curve(y_true=y_test, uplift=uplift_df.max(axis=1), treatment=treat_test);"
   ]
  },
  {
   "cell_type": "code",
   "execution_count": 54,
   "metadata": {
    "ExecuteTime": {
     "end_time": "2021-01-20T11:05:05.053244Z",
     "start_time": "2021-01-20T11:05:04.798158Z"
    }
   },
   "outputs": [
    {
     "data": {
      "image/png": "[encoded data removed]",
      "text/plain": [
       "<Figure size 576x432 with 1 Axes>"
      ]
     },
     "metadata": {
      "needs_background": "light"
     },
     "output_type": "display_data"
    }
   ],
   "source": [
    "from sklift1.viz import plot_uplift_by_percentile\n",
    "plot_uplift_by_percentile(y_true=y_test, uplift=uplift_df.max(axis=1)\n",
    "                          , treatment=treat_test, strategy='overall', kind='line', bins=10);"
   ]
  },
  {
   "cell_type": "code",
   "execution_count": 55,
   "metadata": {
    "ExecuteTime": {
     "end_time": "2021-01-20T11:05:16.290806Z",
     "start_time": "2021-01-20T11:05:07.856230Z"
    }
   },
   "outputs": [
    {
     "data": {
      "image/png": "[encoded data removed]",
      "text/plain": [
       "<Figure size 1008x504 with 1 Axes>"
      ]
     },
     "metadata": {
      "needs_background": "light"
     },
     "output_type": "display_data"
    }
   ],
   "source": [
    "from sklift1.viz import plot_treatment_balance_curve\n",
    "plot_treatment_balance_curve(uplift=uplift_df.max(axis=1), treatment=treat_test, random=True, winsize=0.1);"
   ]
  },
  {
   "cell_type": "markdown",
   "metadata": {},
   "source": [
    "#### regression fm"
   ]
  },
  {
   "cell_type": "code",
   "execution_count": 369,
   "metadata": {
    "ExecuteTime": {
     "end_time": "2021-01-20T13:45:10.679645Z",
     "start_time": "2021-01-20T13:45:10.383863Z"
    }
   },
   "outputs": [],
   "source": [
    "y_train_fm = df_all.loc[df_all.C_START_DATE.isin(train_date)]['fm']\n",
    "y_test_fm = df_all.loc[df_all.C_START_DATE==test_date]['fm']\n",
    "\n",
    "z_train = y_train_fm*(treat_train-0.5)/(0.5*(1-0.5))\n",
    "z_test = y_test_fm*(treat_test-0.5)/(0.5*(1-0.5))"
   ]
  },
  {
   "cell_type": "code",
   "execution_count": 370,
   "metadata": {
    "ExecuteTime": {
     "end_time": "2021-01-20T13:47:41.049995Z",
     "start_time": "2021-01-20T13:45:17.430900Z"
    },
    "scrolled": true
   },
   "outputs": [
    {
     "name": "stdout",
     "output_type": "stream",
     "text": [
      "200.0 1302566.1722764396 [-76.84387424162122] [393.7774421904857]\n",
      "50.0 762286.2824914182 [-2.6229739314719254] [100.7279761127649]\n",
      "150.0 322929.35886663443 [-6.858219517465068] [116.31963444430076]\n",
      "100.0 1561953.3470472791 [-1.3330486814696365] [142.7145244929316]\n"
     ]
    }
   ],
   "source": [
    "from sklift1.models import ClassTransformation\n",
    "from sklift1.viz import plot_uplift_preds, plot_qini_curve\n",
    "from sklift1.metrics import uplift_at_k\n",
    "\n",
    "from catboost import CatBoostRegressor, Pool, cv\n",
    "from sklearn.model_selection import KFold\n",
    "\n",
    "try:\n",
    "    del uplift_ct\n",
    "except: pass\n",
    "\n",
    "uplift_df = pd.DataFrame()                        \n",
    "for treat in offer_train.unique():\n",
    "    treat_shape = X_train.loc[(offer_train==treat) & (treat_train==1)].index\n",
    "    cg_shape = X_train.loc[(offer_train==treat) & (treat_train==0)].index\n",
    "    if len(cg_shape) > len(treat_shape):    \n",
    "        y_train_balance = pd.concat([y_train_fm.loc[treat_shape], y_train_fm.loc[cg_shape].sample(n=len(treat_shape))], axis=0)\n",
    "        z_train_balance = z_train.loc[y_train_balance.index]\n",
    "        X_train_balance = X_train.loc[y_train_balance.index]\n",
    "        treat_train_balance = treat_train.loc[y_train_balance.index]\n",
    "    else:\n",
    "        y_train_balance = pd.concat([y_train_fm.loc[treat_shape].sample(n=len(cg_shape)), y_train_fm.loc[cg_shape]], axis=0)\n",
    "        z_train_balance = z_train.loc[y_train_balance.index]\n",
    "        X_train_balance = X_train.loc[y_train_balance.index]\n",
    "        treat_train_balance = treat_train.loc[y_train_balance.index]\n",
    "        \n",
    "    ct_score_mean = []\n",
    "    ct_score_std = []\n",
    "\n",
    "    for seed in [44, 77, 88, 42, 0]:\n",
    "        ct_reg = CatBoostRegressor(thread_count=2\n",
    "                                  , random_state=seed\n",
    "                                  , silent=True\n",
    "                                  , task_type=\"GPU\"\n",
    "                                  , devices='0:1'\n",
    "                                  , loss_function='RMSE'\n",
    "                                  , iterations=500\n",
    "                                  , learning_rate=0.1\n",
    "                                  , depth=2\n",
    "                                 )    \n",
    "        \n",
    "        ct_reg.fit(X_train_balance, z_train_balance,\n",
    "                    cat_features=categ,\n",
    "                    plot=False)\n",
    "        try:\n",
    "            uplift_ct = np.concatenate((uplift_ct, ct_reg.predict(X_test).reshape(-1,1)), axis=1)\n",
    "        except: \n",
    "            uplift_ct = ct_reg.predict(X_test).reshape(-1, 1)\n",
    "#         print(uplift_ct.shape)\n",
    "    \n",
    "    mean_offer_predicts = np.mean(uplift_ct,axis=1) \n",
    "          \n",
    "    up_sort = np.sort(mean_offer_predicts)[::-1]\n",
    "\n",
    "    perc = 0.8\n",
    "\n",
    "    up_treat_1 = up_sort[treat_test==1][:int(len(up_sort[treat_test==1])*perc)].sum()\n",
    "    up_treat_0 = up_sort[treat_test==0][:int(len(up_sort[treat_test==0])*perc)].sum()\n",
    "    upl = up_treat_1 - up_treat_0\n",
    "\n",
    "    ct_score_mean.append(np.mean(uplift_ct))\n",
    "    ct_score_std.append(np.std(uplift_ct))\n",
    "        \n",
    "    uplift_ct = pd.Series(mean_offer_predicts, name=str(treat))\n",
    "    uplift_df = pd.concat([uplift_df, uplift_ct], axis=1)\n",
    "\n",
    "    print(treat,upl, ct_score_mean, ct_score_std)"
   ]
  },
  {
   "cell_type": "code",
   "execution_count": 371,
   "metadata": {
    "ExecuteTime": {
     "end_time": "2021-01-20T13:47:41.209417Z",
     "start_time": "2021-01-20T13:47:41.050998Z"
    }
   },
   "outputs": [
    {
     "data": {
      "text/plain": [
       "200    52655\n",
       "100    40359\n",
       "50     38976\n",
       "150    19311\n",
       "dtype: int64"
      ]
     },
     "execution_count": 371,
     "metadata": {},
     "output_type": "execute_result"
    }
   ],
   "source": [
    "up_max = uplift_df.idxmax(axis=1).astype(float).astype(int)\n",
    "up_max.value_counts()"
   ]
  },
  {
   "cell_type": "code",
   "execution_count": 372,
   "metadata": {
    "ExecuteTime": {
     "end_time": "2021-01-20T13:47:41.217439Z",
     "start_time": "2021-01-20T13:47:41.210420Z"
    }
   },
   "outputs": [
    {
     "data": {
      "text/html": [
       "<div>\n",
       "<style scoped>\n",
       "    .dataframe tbody tr th:only-of-type {\n",
       "        vertical-align: middle;\n",
       "    }\n",
       "\n",
       "    .dataframe tbody tr th {\n",
       "        vertical-align: top;\n",
       "    }\n",
       "\n",
       "    .dataframe thead th {\n",
       "        text-align: right;\n",
       "    }\n",
       "</style>\n",
       "<table border=\"1\" class=\"dataframe\">\n",
       "  <thead>\n",
       "    <tr style=\"text-align: right;\">\n",
       "      <th></th>\n",
       "      <th>200.0</th>\n",
       "      <th>50.0</th>\n",
       "      <th>150.0</th>\n",
       "      <th>100.0</th>\n",
       "    </tr>\n",
       "  </thead>\n",
       "  <tbody>\n",
       "    <tr>\n",
       "      <th>0</th>\n",
       "      <td>9.899034</td>\n",
       "      <td>-612.984778</td>\n",
       "      <td>284.334109</td>\n",
       "      <td>399.259537</td>\n",
       "    </tr>\n",
       "    <tr>\n",
       "      <th>1</th>\n",
       "      <td>-2.957708</td>\n",
       "      <td>0.277428</td>\n",
       "      <td>-2.331658</td>\n",
       "      <td>-4.176845</td>\n",
       "    </tr>\n",
       "    <tr>\n",
       "      <th>2</th>\n",
       "      <td>1.307290</td>\n",
       "      <td>-8.602447</td>\n",
       "      <td>-9.102929</td>\n",
       "      <td>-1.215937</td>\n",
       "    </tr>\n",
       "    <tr>\n",
       "      <th>3</th>\n",
       "      <td>19.981096</td>\n",
       "      <td>-3.078759</td>\n",
       "      <td>-10.456431</td>\n",
       "      <td>-0.835964</td>\n",
       "    </tr>\n",
       "    <tr>\n",
       "      <th>4</th>\n",
       "      <td>16.360938</td>\n",
       "      <td>-4.435680</td>\n",
       "      <td>-0.792839</td>\n",
       "      <td>-2.257392</td>\n",
       "    </tr>\n",
       "  </tbody>\n",
       "</table>\n",
       "</div>"
      ],
      "text/plain": [
       "       200.0        50.0       150.0       100.0\n",
       "0   9.899034 -612.984778  284.334109  399.259537\n",
       "1  -2.957708    0.277428   -2.331658   -4.176845\n",
       "2   1.307290   -8.602447   -9.102929   -1.215937\n",
       "3  19.981096   -3.078759  -10.456431   -0.835964\n",
       "4  16.360938   -4.435680   -0.792839   -2.257392"
      ]
     },
     "execution_count": 372,
     "metadata": {},
     "output_type": "execute_result"
    }
   ],
   "source": [
    "uplift_df.head()"
   ]
  },
  {
   "cell_type": "code",
   "execution_count": 373,
   "metadata": {
    "ExecuteTime": {
     "end_time": "2021-01-20T13:47:41.490161Z",
     "start_time": "2021-01-20T13:47:41.219444Z"
    }
   },
   "outputs": [
    {
     "data": {
      "text/plain": [
       "25247"
      ]
     },
     "execution_count": 373,
     "metadata": {},
     "output_type": "execute_result"
    }
   ],
   "source": [
    "sum(offer_test.values == up_max.values)"
   ]
  },
  {
   "cell_type": "code",
   "execution_count": 374,
   "metadata": {
    "ExecuteTime": {
     "end_time": "2021-01-20T13:47:42.278170Z",
     "start_time": "2021-01-20T13:47:41.501189Z"
    }
   },
   "outputs": [
    {
     "data": {
      "image/png": "[encoded data removed]",
      "text/plain": [
       "<Figure size 576x432 with 1 Axes>"
      ]
     },
     "metadata": {
      "needs_background": "light"
     },
     "output_type": "display_data"
    }
   ],
   "source": [
    "plot_qini_curve(y_true=y_test, uplift=uplift_df.max(axis=1), treatment=treat_test);"
   ]
  },
  {
   "cell_type": "code",
   "execution_count": 375,
   "metadata": {
    "ExecuteTime": {
     "end_time": "2021-01-20T13:47:42.548886Z",
     "start_time": "2021-01-20T13:47:42.279173Z"
    }
   },
   "outputs": [
    {
     "data": {
      "image/png": "[encoded data removed]",
      "text/plain": [
       "<Figure size 576x432 with 1 Axes>"
      ]
     },
     "metadata": {
      "needs_background": "light"
     },
     "output_type": "display_data"
    }
   ],
   "source": [
    "plot_uplift_by_percentile(y_true=y_test, uplift=uplift_df.max(axis=1)\n",
    "                          , treatment=treat_test, strategy='overall', kind='line', bins=10);"
   ]
  },
  {
   "cell_type": "code",
   "execution_count": 376,
   "metadata": {
    "ExecuteTime": {
     "end_time": "2021-01-20T13:47:42.895804Z",
     "start_time": "2021-01-20T13:47:42.550891Z"
    },
    "scrolled": true
   },
   "outputs": [
    {
     "data": {
      "image/png": "[encoded data removed]",
      "text/plain": [
       "<Figure size 864x720 with 1 Axes>"
      ]
     },
     "metadata": {
      "needs_background": "light"
     },
     "output_type": "display_data"
    }
   ],
   "source": [
    "feature_importance_df = ct_reg.get_feature_importance(prettified=True)\n",
    "\n",
    "plt.figure(figsize=(12, 10));\n",
    "sns.barplot(x=\"Importances\", y=\"Feature Id\", data=feature_importance_df.head(30));\n",
    "plt.title('CatBoost features importance:');"
   ]
  },
  {
   "cell_type": "markdown",
   "metadata": {},
   "source": [
    "#### check fm equal"
   ]
  },
  {
   "cell_type": "code",
   "execution_count": 377,
   "metadata": {
    "ExecuteTime": {
     "end_time": "2021-01-20T13:47:42.908840Z",
     "start_time": "2021-01-20T13:47:42.896807Z"
    }
   },
   "outputs": [
    {
     "data": {
      "text/plain": [
       "((151301, 4), (151301,))"
      ]
     },
     "execution_count": 377,
     "metadata": {},
     "output_type": "execute_result"
    }
   ],
   "source": [
    "uplift_df.shape, y_test.shape"
   ]
  },
  {
   "cell_type": "code",
   "execution_count": 399,
   "metadata": {
    "ExecuteTime": {
     "end_time": "2021-01-20T13:54:27.268486Z",
     "start_time": "2021-01-20T13:54:26.947789Z"
    },
    "scrolled": true
   },
   "outputs": [],
   "source": [
    "up_max_df = uplift_df.max(axis=1).to_frame()\n",
    "up_max_df['ind'] = y_test.index.to_list()\n",
    "up_max_df['offer_new'] = uplift_df.idxmax(axis=1).astype(float).astype(int)\n",
    "up_max_df['offer_old'] = offer_test[up_max_df['ind']].values\n",
    "up_max_df['fm_fact'] = y_test_fm[up_max_df['ind']].values\n",
    "up_max_df['redemp'] = df_all.loc[y_test[up_max_df['ind']].index, 'RED_POINTS'].values\n",
    "up_max_df['fm_new_off'] = up_max_df['fm_fact']\n",
    "up_max_df.loc[(np.abs(up_max_df.redemp)>=up_max_df['offer_old']) \n",
    "              & (up_max_df['offer_new']>up_max_df['offer_old'])\n",
    "              , 'fm_new_off'] = up_max_df['fm_fact'] - up_max_df['offer_old'] +up_max_df['offer_new']\n",
    "up_max_df.loc[(np.abs(up_max_df.redemp)>=up_max_df['offer_old']) \n",
    "              & (up_max_df['offer_new']<up_max_df['offer_old'])\n",
    "              , 'fm_new_off'] = up_max_df['fm_fact'] - up_max_df['offer_old'] +up_max_df['offer_new']\n",
    "up_max_df['visit_fact'] = y_test[up_max_df['ind']].values\n",
    "up_max_df = up_max_df.sort_values(0, ascending=False)"
   ]
  },
  {
   "cell_type": "code",
   "execution_count": 409,
   "metadata": {
    "ExecuteTime": {
     "end_time": "2021-01-20T13:56:30.972984Z",
     "start_time": "2021-01-20T13:56:30.963961Z"
    }
   },
   "outputs": [
    {
     "data": {
      "text/html": [
       "<div>\n",
       "<style scoped>\n",
       "    .dataframe tbody tr th:only-of-type {\n",
       "        vertical-align: middle;\n",
       "    }\n",
       "\n",
       "    .dataframe tbody tr th {\n",
       "        vertical-align: top;\n",
       "    }\n",
       "\n",
       "    .dataframe thead th {\n",
       "        text-align: right;\n",
       "    }\n",
       "</style>\n",
       "<table border=\"1\" class=\"dataframe\">\n",
       "  <thead>\n",
       "    <tr style=\"text-align: right;\">\n",
       "      <th></th>\n",
       "      <th>0</th>\n",
       "      <th>ind</th>\n",
       "      <th>offer_new</th>\n",
       "      <th>offer_old</th>\n",
       "      <th>fm_fact</th>\n",
       "      <th>redemp</th>\n",
       "      <th>fm_new_off</th>\n",
       "      <th>visit_fact</th>\n",
       "    </tr>\n",
       "  </thead>\n",
       "  <tbody>\n",
       "    <tr>\n",
       "      <th>23773</th>\n",
       "      <td>8755.173999</td>\n",
       "      <td>1200743</td>\n",
       "      <td>150</td>\n",
       "      <td>150.0</td>\n",
       "      <td>0.0</td>\n",
       "      <td>0.0</td>\n",
       "      <td>0.0</td>\n",
       "      <td>0.0</td>\n",
       "    </tr>\n",
       "    <tr>\n",
       "      <th>118592</th>\n",
       "      <td>7772.394942</td>\n",
       "      <td>1346140</td>\n",
       "      <td>150</td>\n",
       "      <td>100.0</td>\n",
       "      <td>0.0</td>\n",
       "      <td>0.0</td>\n",
       "      <td>0.0</td>\n",
       "      <td>0.0</td>\n",
       "    </tr>\n",
       "    <tr>\n",
       "      <th>38941</th>\n",
       "      <td>7628.470493</td>\n",
       "      <td>1224149</td>\n",
       "      <td>150</td>\n",
       "      <td>200.0</td>\n",
       "      <td>0.0</td>\n",
       "      <td>0.0</td>\n",
       "      <td>0.0</td>\n",
       "      <td>0.0</td>\n",
       "    </tr>\n",
       "    <tr>\n",
       "      <th>77337</th>\n",
       "      <td>7161.638648</td>\n",
       "      <td>1282951</td>\n",
       "      <td>50</td>\n",
       "      <td>150.0</td>\n",
       "      <td>-1685.0</td>\n",
       "      <td>-198.0</td>\n",
       "      <td>-1785.0</td>\n",
       "      <td>1.0</td>\n",
       "    </tr>\n",
       "    <tr>\n",
       "      <th>95129</th>\n",
       "      <td>7124.255403</td>\n",
       "      <td>1310161</td>\n",
       "      <td>150</td>\n",
       "      <td>200.0</td>\n",
       "      <td>0.0</td>\n",
       "      <td>0.0</td>\n",
       "      <td>0.0</td>\n",
       "      <td>0.0</td>\n",
       "    </tr>\n",
       "  </tbody>\n",
       "</table>\n",
       "</div>"
      ],
      "text/plain": [
       "                  0      ind  offer_new  offer_old  fm_fact  redemp  \\\n",
       "23773   8755.173999  1200743        150      150.0      0.0     0.0   \n",
       "118592  7772.394942  1346140        150      100.0      0.0     0.0   \n",
       "38941   7628.470493  1224149        150      200.0      0.0     0.0   \n",
       "77337   7161.638648  1282951         50      150.0  -1685.0  -198.0   \n",
       "95129   7124.255403  1310161        150      200.0      0.0     0.0   \n",
       "\n",
       "        fm_new_off  visit_fact  \n",
       "23773          0.0         0.0  \n",
       "118592         0.0         0.0  \n",
       "38941          0.0         0.0  \n",
       "77337      -1785.0         1.0  \n",
       "95129          0.0         0.0  "
      ]
     },
     "execution_count": 409,
     "metadata": {},
     "output_type": "execute_result"
    }
   ],
   "source": [
    "up_max_df.head()"
   ]
  },
  {
   "cell_type": "code",
   "execution_count": 406,
   "metadata": {
    "ExecuteTime": {
     "end_time": "2021-01-20T13:55:51.680368Z",
     "start_time": "2021-01-20T13:55:51.665328Z"
    },
    "scrolled": true
   },
   "outputs": [
    {
     "data": {
      "text/plain": [
       "25247"
      ]
     },
     "execution_count": 406,
     "metadata": {},
     "output_type": "execute_result"
    }
   ],
   "source": [
    "sum(up_max_df['offer_new'] ==up_max_df['offer_old'])"
   ]
  },
  {
   "cell_type": "code",
   "execution_count": 411,
   "metadata": {
    "ExecuteTime": {
     "end_time": "2021-01-20T13:56:55.276045Z",
     "start_time": "2021-01-20T13:56:55.264013Z"
    },
    "scrolled": true
   },
   "outputs": [
    {
     "data": {
      "text/plain": [
       "(113.01342, 70.30854)"
      ]
     },
     "execution_count": 411,
     "metadata": {},
     "output_type": "execute_result"
    }
   ],
   "source": [
    "up_max_df.head(100_000)['fm_fact'].mean(), up_max_df.tail(50_000)['fm_fact'].mean()"
   ]
  },
  {
   "cell_type": "code",
   "execution_count": 412,
   "metadata": {
    "ExecuteTime": {
     "end_time": "2021-01-20T13:57:07.768173Z",
     "start_time": "2021-01-20T13:57:07.763159Z"
    }
   },
   "outputs": [
    {
     "data": {
      "text/plain": [
       "(113.50192, 70.41054)"
      ]
     },
     "execution_count": 412,
     "metadata": {},
     "output_type": "execute_result"
    }
   ],
   "source": [
    "up_max_df.head(100_000)['fm_new_off'].mean(), up_max_df.tail(50_000)['fm_new_off'].mean()"
   ]
  },
  {
   "cell_type": "code",
   "execution_count": 417,
   "metadata": {
    "ExecuteTime": {
     "end_time": "2021-01-20T13:58:46.460278Z",
     "start_time": "2021-01-20T13:58:46.453260Z"
    },
    "scrolled": true
   },
   "outputs": [
    {
     "data": {
      "text/plain": [
       "14892364.0"
      ]
     },
     "execution_count": 417,
     "metadata": {},
     "output_type": "execute_result"
    }
   ],
   "source": [
    "n = 50000\n",
    "y_test_fm[y_test!=0].head(n).sum()"
   ]
  },
  {
   "cell_type": "code",
   "execution_count": 434,
   "metadata": {
    "ExecuteTime": {
     "end_time": "2021-01-20T14:01:41.299544Z",
     "start_time": "2021-01-20T14:01:41.290520Z"
    }
   },
   "outputs": [
    {
     "data": {
      "text/plain": [
       "14892364.0"
      ]
     },
     "execution_count": 434,
     "metadata": {},
     "output_type": "execute_result"
    }
   ],
   "source": [
    "fm_default = up_max_df[up_max_df.visit_fact!=0]['fm_fact'].head(n).sum()\n",
    "fm_default"
   ]
  },
  {
   "cell_type": "code",
   "execution_count": 435,
   "metadata": {
    "ExecuteTime": {
     "end_time": "2021-01-20T14:01:41.905595Z",
     "start_time": "2021-01-20T14:01:41.893563Z"
    }
   },
   "outputs": [
    {
     "data": {
      "text/plain": [
       "14946164.0"
      ]
     },
     "execution_count": 435,
     "metadata": {},
     "output_type": "execute_result"
    }
   ],
   "source": [
    "fm_new = up_max_df[up_max_df.visit_fact!=0]['fm_new_off'].head(n).sum()\n",
    "fm_new"
   ]
  },
  {
   "cell_type": "code",
   "execution_count": 436,
   "metadata": {
    "ExecuteTime": {
     "end_time": "2021-01-20T14:01:43.778945Z",
     "start_time": "2021-01-20T14:01:43.775937Z"
    }
   },
   "outputs": [
    {
     "data": {
      "text/plain": [
       "53800.0"
      ]
     },
     "execution_count": 436,
     "metadata": {},
     "output_type": "execute_result"
    }
   ],
   "source": [
    "fm_new-fm_default"
   ]
  }
 ],
 "metadata": {
  "kernelspec": {
   "display_name": "Python 3",
   "language": "python",
   "name": "python3"
  },
  "language_info": {
   "codemirror_mode": {
    "name": "ipython",
    "version": 3
   },
   "file_extension": ".py",
   "mimetype": "text/x-python",
   "name": "python",
   "nbconvert_exporter": "python",
   "pygments_lexer": "ipython3",
   "version": "3.6.4"
  },
  "toc": {
   "base_numbering": 1,
   "nav_menu": {},
   "number_sections": true,
   "sideBar": true,
   "skip_h1_title": false,
   "title_cell": "Table of Contents",
   "title_sidebar": "Contents",
   "toc_cell": false,
   "toc_position": {
    "height": "calc(100% - 180px)",
    "left": "10px",
    "top": "150px",
    "width": "265px"
   },
   "toc_section_display": true,
   "toc_window_display": true
  }
 },
 "nbformat": 4,
 "nbformat_minor": 2
}
